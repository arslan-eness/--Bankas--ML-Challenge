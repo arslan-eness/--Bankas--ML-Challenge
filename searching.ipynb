{
 "cells": [
  {
   "cell_type": "code",
   "execution_count": 1,
   "id": "67e887bd",
   "metadata": {},
   "outputs": [],
   "source": [
    "import pandas as pd\n",
    "import numpy as np"
   ]
  },
  {
   "cell_type": "code",
   "execution_count": 2,
   "id": "a900b97e",
   "metadata": {},
   "outputs": [],
   "source": [
    "df=pd.read_csv(\"MLChallenge4/train.csv\")"
   ]
  },
  {
   "cell_type": "code",
   "execution_count": 3,
   "id": "2152ca6a",
   "metadata": {},
   "outputs": [
    {
     "data": {
      "text/html": [
       "<div>\n",
       "<style scoped>\n",
       "    .dataframe tbody tr th:only-of-type {\n",
       "        vertical-align: middle;\n",
       "    }\n",
       "\n",
       "    .dataframe tbody tr th {\n",
       "        vertical-align: top;\n",
       "    }\n",
       "\n",
       "    .dataframe thead th {\n",
       "        text-align: right;\n",
       "    }\n",
       "</style>\n",
       "<table border=\"1\" class=\"dataframe\">\n",
       "  <thead>\n",
       "    <tr style=\"text-align: right;\">\n",
       "      <th></th>\n",
       "      <th>TARGET</th>\n",
       "      <th>CST_NR</th>\n",
       "      <th>CC_NR</th>\n",
       "      <th>DAY_OF_MONTH</th>\n",
       "      <th>DAY_OF_WEEK</th>\n",
       "      <th>TXN_TIME</th>\n",
       "      <th>TXN_SOURCE</th>\n",
       "      <th>TXN_TRM</th>\n",
       "      <th>TXN_ENTRY</th>\n",
       "      <th>TXN_AMNT</th>\n",
       "      <th>CITY</th>\n",
       "      <th>COUNTRY</th>\n",
       "      <th>MC_NAME</th>\n",
       "      <th>MC_ID</th>\n",
       "      <th>MCC_CODE</th>\n",
       "    </tr>\n",
       "  </thead>\n",
       "  <tbody>\n",
       "    <tr>\n",
       "      <th>0</th>\n",
       "      <td>0.0</td>\n",
       "      <td>c64007916f81cb9543a6aacc768a15d5eefde44318b3c0...</td>\n",
       "      <td>bf4e876751b8785159aad106b055123b6cdda8a9591d5f...</td>\n",
       "      <td>8.0</td>\n",
       "      <td>4.0</td>\n",
       "      <td>1800.0</td>\n",
       "      <td>O</td>\n",
       "      <td>4a1917677530762f21c3c64208a948e9ed007e3bd45e70...</td>\n",
       "      <td>12d7720f7273e2a1cfb2adf5daba868b767db6281b34b3...</td>\n",
       "      <td>540.0</td>\n",
       "      <td>8c1e38274fba4c2119fd88120b70c29cd468c6444058da...</td>\n",
       "      <td>368a2b6e4893c8ab01c18959a187dcde2ab916161f72e1...</td>\n",
       "      <td>09adaccd88433a530071a5c7437e3d03c4a3eefae1bbcc...</td>\n",
       "      <td>e0d92b0729b1406983f91eaf8600b24236a53d88e32efa...</td>\n",
       "      <td>9bcde6cbc9021358668bc16cd3fbf6715669db89fd4570...</td>\n",
       "    </tr>\n",
       "    <tr>\n",
       "      <th>1</th>\n",
       "      <td>0.0</td>\n",
       "      <td>24882e5a50d43c050f71ffdfc0061550a8bf5e6eb0911c...</td>\n",
       "      <td>933c28d9d4c6fb6db04a2209f34def95497ea3060f581b...</td>\n",
       "      <td>11.0</td>\n",
       "      <td>7.0</td>\n",
       "      <td>1404.0</td>\n",
       "      <td>O</td>\n",
       "      <td>4a1917677530762f21c3c64208a948e9ed007e3bd45e70...</td>\n",
       "      <td>12b4164904d6ecac8163670f59dc63330075d27d1d191a...</td>\n",
       "      <td>49490.0</td>\n",
       "      <td>8c1e38274fba4c2119fd88120b70c29cd468c6444058da...</td>\n",
       "      <td>368a2b6e4893c8ab01c18959a187dcde2ab916161f72e1...</td>\n",
       "      <td>0b0b39198d9a5f47e27f7ee20aded3e0d4f29ba3c8dfdf...</td>\n",
       "      <td>2b047d7167ac6b27522c339cff056ac613730477cc511c...</td>\n",
       "      <td>3c7ce134e41449a3fbe18892efdf90304e12e052ae35a2...</td>\n",
       "    </tr>\n",
       "    <tr>\n",
       "      <th>2</th>\n",
       "      <td>0.0</td>\n",
       "      <td>24882e5a50d43c050f71ffdfc0061550a8bf5e6eb0911c...</td>\n",
       "      <td>194024f4b029f8df4e045ad034588ef6fc1957d39ab3d5...</td>\n",
       "      <td>17.0</td>\n",
       "      <td>6.0</td>\n",
       "      <td>1750.0</td>\n",
       "      <td>O</td>\n",
       "      <td>4a1917677530762f21c3c64208a948e9ed007e3bd45e70...</td>\n",
       "      <td>12b4164904d6ecac8163670f59dc63330075d27d1d191a...</td>\n",
       "      <td>5040.0</td>\n",
       "      <td>8c1e38274fba4c2119fd88120b70c29cd468c6444058da...</td>\n",
       "      <td>368a2b6e4893c8ab01c18959a187dcde2ab916161f72e1...</td>\n",
       "      <td>59c94e8a976c930a684743605363d473e929b2d265b6d3...</td>\n",
       "      <td>2ff0f25b15cabe373de08aa40c1adb2796b59cbecd31ae...</td>\n",
       "      <td>2ae12c28b5bebf8e0b332f8eeb226ebba9de07a958db9b...</td>\n",
       "    </tr>\n",
       "    <tr>\n",
       "      <th>3</th>\n",
       "      <td>0.0</td>\n",
       "      <td>24882e5a50d43c050f71ffdfc0061550a8bf5e6eb0911c...</td>\n",
       "      <td>194024f4b029f8df4e045ad034588ef6fc1957d39ab3d5...</td>\n",
       "      <td>1.0</td>\n",
       "      <td>4.0</td>\n",
       "      <td>1741.0</td>\n",
       "      <td>O</td>\n",
       "      <td>4a1917677530762f21c3c64208a948e9ed007e3bd45e70...</td>\n",
       "      <td>12d7720f7273e2a1cfb2adf5daba868b767db6281b34b3...</td>\n",
       "      <td>10.0</td>\n",
       "      <td>8c1e38274fba4c2119fd88120b70c29cd468c6444058da...</td>\n",
       "      <td>368a2b6e4893c8ab01c18959a187dcde2ab916161f72e1...</td>\n",
       "      <td>a7db20b1dba321830a2e7abdebda548a117b20caf75be8...</td>\n",
       "      <td>e60354c25c84c774233d2c5290eb669b3f60604d71ac3e...</td>\n",
       "      <td>03a768696503f2039b82f8ab09c7c2c1d7c59fd5357ddd...</td>\n",
       "    </tr>\n",
       "    <tr>\n",
       "      <th>4</th>\n",
       "      <td>0.0</td>\n",
       "      <td>24882e5a50d43c050f71ffdfc0061550a8bf5e6eb0911c...</td>\n",
       "      <td>933c28d9d4c6fb6db04a2209f34def95497ea3060f581b...</td>\n",
       "      <td>7.0</td>\n",
       "      <td>3.0</td>\n",
       "      <td>2344.0</td>\n",
       "      <td>O</td>\n",
       "      <td>4a1917677530762f21c3c64208a948e9ed007e3bd45e70...</td>\n",
       "      <td>12b4164904d6ecac8163670f59dc63330075d27d1d191a...</td>\n",
       "      <td>47760.0</td>\n",
       "      <td>8c1e38274fba4c2119fd88120b70c29cd468c6444058da...</td>\n",
       "      <td>368a2b6e4893c8ab01c18959a187dcde2ab916161f72e1...</td>\n",
       "      <td>0b0b39198d9a5f47e27f7ee20aded3e0d4f29ba3c8dfdf...</td>\n",
       "      <td>2b047d7167ac6b27522c339cff056ac613730477cc511c...</td>\n",
       "      <td>3c7ce134e41449a3fbe18892efdf90304e12e052ae35a2...</td>\n",
       "    </tr>\n",
       "    <tr>\n",
       "      <th>...</th>\n",
       "      <td>...</td>\n",
       "      <td>...</td>\n",
       "      <td>...</td>\n",
       "      <td>...</td>\n",
       "      <td>...</td>\n",
       "      <td>...</td>\n",
       "      <td>...</td>\n",
       "      <td>...</td>\n",
       "      <td>...</td>\n",
       "      <td>...</td>\n",
       "      <td>...</td>\n",
       "      <td>...</td>\n",
       "      <td>...</td>\n",
       "      <td>...</td>\n",
       "      <td>...</td>\n",
       "    </tr>\n",
       "    <tr>\n",
       "      <th>607502</th>\n",
       "      <td>0.0</td>\n",
       "      <td>7be05c0f24b82c9c870aa46b109f89efe129fbd3974d38...</td>\n",
       "      <td>ea7e1b9c068ea1aec5ef6dad5f7aa3820384cb8a519427...</td>\n",
       "      <td>4.0</td>\n",
       "      <td>7.0</td>\n",
       "      <td>924.0</td>\n",
       "      <td>M</td>\n",
       "      <td>4a1917677530762f21c3c64208a948e9ed007e3bd45e70...</td>\n",
       "      <td>12d7720f7273e2a1cfb2adf5daba868b767db6281b34b3...</td>\n",
       "      <td>60.0</td>\n",
       "      <td>7e943c4295cfab64ebe6d2cbe98bc5514e17d6e2dee038...</td>\n",
       "      <td>18ea71c60d9b0fa64274e50b983f7b8515f7a0971395f4...</td>\n",
       "      <td>113d0832a20a53132badd510b00d75cf2c0c9ba9b91987...</td>\n",
       "      <td>fed9060efb4531d7f506eae84390d22973749db155cef9...</td>\n",
       "      <td>03a768696503f2039b82f8ab09c7c2c1d7c59fd5357ddd...</td>\n",
       "    </tr>\n",
       "    <tr>\n",
       "      <th>607503</th>\n",
       "      <td>0.0</td>\n",
       "      <td>7be05c0f24b82c9c870aa46b109f89efe129fbd3974d38...</td>\n",
       "      <td>ea7e1b9c068ea1aec5ef6dad5f7aa3820384cb8a519427...</td>\n",
       "      <td>2.0</td>\n",
       "      <td>5.0</td>\n",
       "      <td>2124.0</td>\n",
       "      <td>M</td>\n",
       "      <td>4a1917677530762f21c3c64208a948e9ed007e3bd45e70...</td>\n",
       "      <td>12d7720f7273e2a1cfb2adf5daba868b767db6281b34b3...</td>\n",
       "      <td>60.0</td>\n",
       "      <td>7e943c4295cfab64ebe6d2cbe98bc5514e17d6e2dee038...</td>\n",
       "      <td>18ea71c60d9b0fa64274e50b983f7b8515f7a0971395f4...</td>\n",
       "      <td>113d0832a20a53132badd510b00d75cf2c0c9ba9b91987...</td>\n",
       "      <td>fed9060efb4531d7f506eae84390d22973749db155cef9...</td>\n",
       "      <td>03a768696503f2039b82f8ab09c7c2c1d7c59fd5357ddd...</td>\n",
       "    </tr>\n",
       "    <tr>\n",
       "      <th>607504</th>\n",
       "      <td>0.0</td>\n",
       "      <td>7be05c0f24b82c9c870aa46b109f89efe129fbd3974d38...</td>\n",
       "      <td>ea7e1b9c068ea1aec5ef6dad5f7aa3820384cb8a519427...</td>\n",
       "      <td>1.0</td>\n",
       "      <td>4.0</td>\n",
       "      <td>2123.0</td>\n",
       "      <td>M</td>\n",
       "      <td>4a1917677530762f21c3c64208a948e9ed007e3bd45e70...</td>\n",
       "      <td>12d7720f7273e2a1cfb2adf5daba868b767db6281b34b3...</td>\n",
       "      <td>60.0</td>\n",
       "      <td>7e943c4295cfab64ebe6d2cbe98bc5514e17d6e2dee038...</td>\n",
       "      <td>18ea71c60d9b0fa64274e50b983f7b8515f7a0971395f4...</td>\n",
       "      <td>113d0832a20a53132badd510b00d75cf2c0c9ba9b91987...</td>\n",
       "      <td>fed9060efb4531d7f506eae84390d22973749db155cef9...</td>\n",
       "      <td>03a768696503f2039b82f8ab09c7c2c1d7c59fd5357ddd...</td>\n",
       "    </tr>\n",
       "    <tr>\n",
       "      <th>607505</th>\n",
       "      <td>0.0</td>\n",
       "      <td>7be05c0f24b82c9c870aa46b109f89efe129fbd3974d38...</td>\n",
       "      <td>ea7e1b9c068ea1aec5ef6dad5f7aa3820384cb8a519427...</td>\n",
       "      <td>4.0</td>\n",
       "      <td>7.0</td>\n",
       "      <td>2124.0</td>\n",
       "      <td>M</td>\n",
       "      <td>4a1917677530762f21c3c64208a948e9ed007e3bd45e70...</td>\n",
       "      <td>12d7720f7273e2a1cfb2adf5daba868b767db6281b34b3...</td>\n",
       "      <td>60.0</td>\n",
       "      <td>7e943c4295cfab64ebe6d2cbe98bc5514e17d6e2dee038...</td>\n",
       "      <td>18ea71c60d9b0fa64274e50b983f7b8515f7a0971395f4...</td>\n",
       "      <td>113d0832a20a53132badd510b00d75cf2c0c9ba9b91987...</td>\n",
       "      <td>fed9060efb4531d7f506eae84390d22973749db155cef9...</td>\n",
       "      <td>03a768696503f2039b82f8ab09c7c2c1d7c59fd5357ddd...</td>\n",
       "    </tr>\n",
       "    <tr>\n",
       "      <th>607506</th>\n",
       "      <td>0.0</td>\n",
       "      <td>7be05c0f24b82c9c870aa46b109f89efe129fbd3974d38...</td>\n",
       "      <td>ea7e1b9c068ea1aec5ef6dad5f7aa3820384cb8a519427...</td>\n",
       "      <td>1.0</td>\n",
       "      <td>4.0</td>\n",
       "      <td>923.0</td>\n",
       "      <td>M</td>\n",
       "      <td>4a1917677530762f21c3c64208a948e9ed007e3bd45e70...</td>\n",
       "      <td>12d7720f7273e2a1cfb2adf5daba868b767db6281b34b3...</td>\n",
       "      <td>60.0</td>\n",
       "      <td>7e943c4295cfab64ebe6d2cbe98bc5514e17d6e2dee038...</td>\n",
       "      <td>18ea71c60d9b0fa64274e50b983f7b8515f7a0971395f4...</td>\n",
       "      <td>113d0832a20a53132badd510b00d75cf2c0c9ba9b91987...</td>\n",
       "      <td>fed9060efb4531d7f506eae84390d22973749db155cef9...</td>\n",
       "      <td>03a768696503f2039b82f8ab09c7c2c1d7c59fd5357ddd...</td>\n",
       "    </tr>\n",
       "  </tbody>\n",
       "</table>\n",
       "<p>607507 rows × 15 columns</p>\n",
       "</div>"
      ],
      "text/plain": [
       "        TARGET                                             CST_NR  \\\n",
       "0          0.0  c64007916f81cb9543a6aacc768a15d5eefde44318b3c0...   \n",
       "1          0.0  24882e5a50d43c050f71ffdfc0061550a8bf5e6eb0911c...   \n",
       "2          0.0  24882e5a50d43c050f71ffdfc0061550a8bf5e6eb0911c...   \n",
       "3          0.0  24882e5a50d43c050f71ffdfc0061550a8bf5e6eb0911c...   \n",
       "4          0.0  24882e5a50d43c050f71ffdfc0061550a8bf5e6eb0911c...   \n",
       "...        ...                                                ...   \n",
       "607502     0.0  7be05c0f24b82c9c870aa46b109f89efe129fbd3974d38...   \n",
       "607503     0.0  7be05c0f24b82c9c870aa46b109f89efe129fbd3974d38...   \n",
       "607504     0.0  7be05c0f24b82c9c870aa46b109f89efe129fbd3974d38...   \n",
       "607505     0.0  7be05c0f24b82c9c870aa46b109f89efe129fbd3974d38...   \n",
       "607506     0.0  7be05c0f24b82c9c870aa46b109f89efe129fbd3974d38...   \n",
       "\n",
       "                                                    CC_NR  DAY_OF_MONTH  \\\n",
       "0       bf4e876751b8785159aad106b055123b6cdda8a9591d5f...           8.0   \n",
       "1       933c28d9d4c6fb6db04a2209f34def95497ea3060f581b...          11.0   \n",
       "2       194024f4b029f8df4e045ad034588ef6fc1957d39ab3d5...          17.0   \n",
       "3       194024f4b029f8df4e045ad034588ef6fc1957d39ab3d5...           1.0   \n",
       "4       933c28d9d4c6fb6db04a2209f34def95497ea3060f581b...           7.0   \n",
       "...                                                   ...           ...   \n",
       "607502  ea7e1b9c068ea1aec5ef6dad5f7aa3820384cb8a519427...           4.0   \n",
       "607503  ea7e1b9c068ea1aec5ef6dad5f7aa3820384cb8a519427...           2.0   \n",
       "607504  ea7e1b9c068ea1aec5ef6dad5f7aa3820384cb8a519427...           1.0   \n",
       "607505  ea7e1b9c068ea1aec5ef6dad5f7aa3820384cb8a519427...           4.0   \n",
       "607506  ea7e1b9c068ea1aec5ef6dad5f7aa3820384cb8a519427...           1.0   \n",
       "\n",
       "        DAY_OF_WEEK  TXN_TIME TXN_SOURCE  \\\n",
       "0               4.0    1800.0          O   \n",
       "1               7.0    1404.0          O   \n",
       "2               6.0    1750.0          O   \n",
       "3               4.0    1741.0          O   \n",
       "4               3.0    2344.0          O   \n",
       "...             ...       ...        ...   \n",
       "607502          7.0     924.0          M   \n",
       "607503          5.0    2124.0          M   \n",
       "607504          4.0    2123.0          M   \n",
       "607505          7.0    2124.0          M   \n",
       "607506          4.0     923.0          M   \n",
       "\n",
       "                                                  TXN_TRM  \\\n",
       "0       4a1917677530762f21c3c64208a948e9ed007e3bd45e70...   \n",
       "1       4a1917677530762f21c3c64208a948e9ed007e3bd45e70...   \n",
       "2       4a1917677530762f21c3c64208a948e9ed007e3bd45e70...   \n",
       "3       4a1917677530762f21c3c64208a948e9ed007e3bd45e70...   \n",
       "4       4a1917677530762f21c3c64208a948e9ed007e3bd45e70...   \n",
       "...                                                   ...   \n",
       "607502  4a1917677530762f21c3c64208a948e9ed007e3bd45e70...   \n",
       "607503  4a1917677530762f21c3c64208a948e9ed007e3bd45e70...   \n",
       "607504  4a1917677530762f21c3c64208a948e9ed007e3bd45e70...   \n",
       "607505  4a1917677530762f21c3c64208a948e9ed007e3bd45e70...   \n",
       "607506  4a1917677530762f21c3c64208a948e9ed007e3bd45e70...   \n",
       "\n",
       "                                                TXN_ENTRY  TXN_AMNT  \\\n",
       "0       12d7720f7273e2a1cfb2adf5daba868b767db6281b34b3...     540.0   \n",
       "1       12b4164904d6ecac8163670f59dc63330075d27d1d191a...   49490.0   \n",
       "2       12b4164904d6ecac8163670f59dc63330075d27d1d191a...    5040.0   \n",
       "3       12d7720f7273e2a1cfb2adf5daba868b767db6281b34b3...      10.0   \n",
       "4       12b4164904d6ecac8163670f59dc63330075d27d1d191a...   47760.0   \n",
       "...                                                   ...       ...   \n",
       "607502  12d7720f7273e2a1cfb2adf5daba868b767db6281b34b3...      60.0   \n",
       "607503  12d7720f7273e2a1cfb2adf5daba868b767db6281b34b3...      60.0   \n",
       "607504  12d7720f7273e2a1cfb2adf5daba868b767db6281b34b3...      60.0   \n",
       "607505  12d7720f7273e2a1cfb2adf5daba868b767db6281b34b3...      60.0   \n",
       "607506  12d7720f7273e2a1cfb2adf5daba868b767db6281b34b3...      60.0   \n",
       "\n",
       "                                                     CITY  \\\n",
       "0       8c1e38274fba4c2119fd88120b70c29cd468c6444058da...   \n",
       "1       8c1e38274fba4c2119fd88120b70c29cd468c6444058da...   \n",
       "2       8c1e38274fba4c2119fd88120b70c29cd468c6444058da...   \n",
       "3       8c1e38274fba4c2119fd88120b70c29cd468c6444058da...   \n",
       "4       8c1e38274fba4c2119fd88120b70c29cd468c6444058da...   \n",
       "...                                                   ...   \n",
       "607502  7e943c4295cfab64ebe6d2cbe98bc5514e17d6e2dee038...   \n",
       "607503  7e943c4295cfab64ebe6d2cbe98bc5514e17d6e2dee038...   \n",
       "607504  7e943c4295cfab64ebe6d2cbe98bc5514e17d6e2dee038...   \n",
       "607505  7e943c4295cfab64ebe6d2cbe98bc5514e17d6e2dee038...   \n",
       "607506  7e943c4295cfab64ebe6d2cbe98bc5514e17d6e2dee038...   \n",
       "\n",
       "                                                  COUNTRY  \\\n",
       "0       368a2b6e4893c8ab01c18959a187dcde2ab916161f72e1...   \n",
       "1       368a2b6e4893c8ab01c18959a187dcde2ab916161f72e1...   \n",
       "2       368a2b6e4893c8ab01c18959a187dcde2ab916161f72e1...   \n",
       "3       368a2b6e4893c8ab01c18959a187dcde2ab916161f72e1...   \n",
       "4       368a2b6e4893c8ab01c18959a187dcde2ab916161f72e1...   \n",
       "...                                                   ...   \n",
       "607502  18ea71c60d9b0fa64274e50b983f7b8515f7a0971395f4...   \n",
       "607503  18ea71c60d9b0fa64274e50b983f7b8515f7a0971395f4...   \n",
       "607504  18ea71c60d9b0fa64274e50b983f7b8515f7a0971395f4...   \n",
       "607505  18ea71c60d9b0fa64274e50b983f7b8515f7a0971395f4...   \n",
       "607506  18ea71c60d9b0fa64274e50b983f7b8515f7a0971395f4...   \n",
       "\n",
       "                                                  MC_NAME  \\\n",
       "0       09adaccd88433a530071a5c7437e3d03c4a3eefae1bbcc...   \n",
       "1       0b0b39198d9a5f47e27f7ee20aded3e0d4f29ba3c8dfdf...   \n",
       "2       59c94e8a976c930a684743605363d473e929b2d265b6d3...   \n",
       "3       a7db20b1dba321830a2e7abdebda548a117b20caf75be8...   \n",
       "4       0b0b39198d9a5f47e27f7ee20aded3e0d4f29ba3c8dfdf...   \n",
       "...                                                   ...   \n",
       "607502  113d0832a20a53132badd510b00d75cf2c0c9ba9b91987...   \n",
       "607503  113d0832a20a53132badd510b00d75cf2c0c9ba9b91987...   \n",
       "607504  113d0832a20a53132badd510b00d75cf2c0c9ba9b91987...   \n",
       "607505  113d0832a20a53132badd510b00d75cf2c0c9ba9b91987...   \n",
       "607506  113d0832a20a53132badd510b00d75cf2c0c9ba9b91987...   \n",
       "\n",
       "                                                    MC_ID  \\\n",
       "0       e0d92b0729b1406983f91eaf8600b24236a53d88e32efa...   \n",
       "1       2b047d7167ac6b27522c339cff056ac613730477cc511c...   \n",
       "2       2ff0f25b15cabe373de08aa40c1adb2796b59cbecd31ae...   \n",
       "3       e60354c25c84c774233d2c5290eb669b3f60604d71ac3e...   \n",
       "4       2b047d7167ac6b27522c339cff056ac613730477cc511c...   \n",
       "...                                                   ...   \n",
       "607502  fed9060efb4531d7f506eae84390d22973749db155cef9...   \n",
       "607503  fed9060efb4531d7f506eae84390d22973749db155cef9...   \n",
       "607504  fed9060efb4531d7f506eae84390d22973749db155cef9...   \n",
       "607505  fed9060efb4531d7f506eae84390d22973749db155cef9...   \n",
       "607506  fed9060efb4531d7f506eae84390d22973749db155cef9...   \n",
       "\n",
       "                                                 MCC_CODE  \n",
       "0       9bcde6cbc9021358668bc16cd3fbf6715669db89fd4570...  \n",
       "1       3c7ce134e41449a3fbe18892efdf90304e12e052ae35a2...  \n",
       "2       2ae12c28b5bebf8e0b332f8eeb226ebba9de07a958db9b...  \n",
       "3       03a768696503f2039b82f8ab09c7c2c1d7c59fd5357ddd...  \n",
       "4       3c7ce134e41449a3fbe18892efdf90304e12e052ae35a2...  \n",
       "...                                                   ...  \n",
       "607502  03a768696503f2039b82f8ab09c7c2c1d7c59fd5357ddd...  \n",
       "607503  03a768696503f2039b82f8ab09c7c2c1d7c59fd5357ddd...  \n",
       "607504  03a768696503f2039b82f8ab09c7c2c1d7c59fd5357ddd...  \n",
       "607505  03a768696503f2039b82f8ab09c7c2c1d7c59fd5357ddd...  \n",
       "607506  03a768696503f2039b82f8ab09c7c2c1d7c59fd5357ddd...  \n",
       "\n",
       "[607507 rows x 15 columns]"
      ]
     },
     "execution_count": 3,
     "metadata": {},
     "output_type": "execute_result"
    }
   ],
   "source": [
    "df"
   ]
  },
  {
   "cell_type": "code",
   "execution_count": 46,
   "id": "3e942c7c",
   "metadata": {
    "scrolled": false
   },
   "outputs": [
    {
     "name": "stdout",
     "output_type": "stream",
     "text": [
      "9c5ab283ab8a30e71a94b80bbf81c6459b998d9233c8454991e0    119675\n",
      "03a768696503f2039b82f8ab09c7c2c1d7c59fd5357dddafe50b     68012\n",
      "f334ac9eaeb3276272f270538e1cd3b27d8c8b8d719374885c2b     63019\n",
      "77b669500ba0d0667610fd2768553b9cf7f6c874808124d6c7dd     54774\n",
      "9bcde6cbc9021358668bc16cd3fbf6715669db89fd4570e2682c     38902\n",
      "                                                         ...  \n",
      "126ace8f61bce9583d362b7e73b5c8c7b199b1a7aadd9a7f2538         1\n",
      "bee0e70d91470b30e4ff9d053426ff07cb984c7e07c46ad4d854         1\n",
      "51f1cb9cb49444cf9b3e79b4f51474b42d8c4144cb2b8d5b8a41         1\n",
      "f7464fc36a298c6951abb90b518e95adc67bf13f37b39af7b155         1\n",
      "e14cf983250ce83ac86b58d6baeba37877cad22f5793bf4f83bf         1\n",
      "Name: MCC_CODE, Length: 239, dtype: int64\n"
     ]
    }
   ],
   "source": [
    "#print(df[\"TARGET\"].value_counts())\n",
    "#print(df[\"CST_NR\"].value_counts())       #18653   500>(15)\n",
    "#print(df[\"CC_NR\"].value_counts())       #155201  500>(12)\n",
    "#print(df[\"TXN_TRM\"].value_counts())        #1\n",
    "#print(len(df[\"TXN_ENTRY\"].value_counts()))#3 \n",
    "#print(df[\"CITY\"].value_counts())         #1702\n",
    "#print(df[\"COUNTRY\"].value_counts())      #76\n",
    "#print(df[\"MC_NAME\"].value_counts())       #27518  1000>(61)  \n",
    "#print(df[\"MC_ID\"].value_counts())         #6096    1000>(63)\n",
    "#print(df[\"MCC_CODE\"].value_counts())       #239     1000>(67)"
   ]
  },
  {
   "cell_type": "code",
   "execution_count": 79,
   "id": "d5833cf6",
   "metadata": {},
   "outputs": [
    {
     "data": {
      "text/plain": [
       "03a768696503f2039b82f8ab09c7c2c1d7c59fd5357dddafe50b    432\n",
       "81b9492bb27d86184e76f55fce0168f5f296cc14bf8cb641949c    383\n",
       "3837c6e5afa90b4966e82a240ea40daa40852d1925b5a737984c    357\n",
       "9c5ab283ab8a30e71a94b80bbf81c6459b998d9233c8454991e0    256\n",
       "9bcde6cbc9021358668bc16cd3fbf6715669db89fd4570e2682c    245\n",
       "                                                       ... \n",
       "1523d6e02e54fae8a8a3eea01ed2ef24cfda06ea9acfddf0c138      1\n",
       "aae4475b91e2529bd9c9fee558f9bbbf8fb912c335b326927d39      1\n",
       "b299ed60b415505b8e08220b42f8846c3aa862e72c4b9c0f67ad      1\n",
       "5fd517b8c9e0b2013c4723a3fa2f752b1a5f393c48a0abf67a1d      1\n",
       "b9fa5020bf09af2c2560864f9de36606b441e80b93256aaa2f43      1\n",
       "Name: MCC_CODE, Length: 112, dtype: int64"
      ]
     },
     "execution_count": 79,
     "metadata": {},
     "output_type": "execute_result"
    }
   ],
   "source": [
    "#df[df[\"TARGET\"]==1][\"CST_NR\"].value_counts()    #995\n",
    "#df[df[\"TARGET\"]==1][\"CC_NR\"].value_counts()    #1034\n",
    "#df[df[\"TARGET\"]==1][\"MC_NAME\"].value_counts()    #737\n",
    "#df[df[\"TARGET\"]==1][\"MC_ID\"].value_counts()      #450\n",
    "#df[df[\"TARGET\"]==1][\"MCC_CODE\"].value_counts()   #112\n",
    "                                                  #+3328"
   ]
  },
  {
   "cell_type": "code",
   "execution_count": 65,
   "id": "0678741a",
   "metadata": {},
   "outputs": [
    {
     "data": {
      "text/plain": [
       "(15,)"
      ]
     },
     "execution_count": 65,
     "metadata": {},
     "output_type": "execute_result"
    }
   ],
   "source": [
    "df[\"CST_NR\" ].value_counts()[df[\"CST_NR\"].value_counts()>500].shape"
   ]
  },
  {
   "cell_type": "code",
   "execution_count": 39,
   "id": "e055684d",
   "metadata": {},
   "outputs": [
    {
     "data": {
      "text/plain": [
       "(12,)"
      ]
     },
     "execution_count": 39,
     "metadata": {},
     "output_type": "execute_result"
    }
   ],
   "source": [
    "df[\"CC_NR\"].value_counts()[df[\"CC_NR\"].value_counts()>500].shape"
   ]
  },
  {
   "cell_type": "code",
   "execution_count": 42,
   "id": "61dc4585",
   "metadata": {},
   "outputs": [
    {
     "data": {
      "text/plain": [
       "(61,)"
      ]
     },
     "execution_count": 42,
     "metadata": {},
     "output_type": "execute_result"
    }
   ],
   "source": [
    "df[\"MC_NAME\"].value_counts()[df[\"MC_NAME\"].value_counts()>1000].shape"
   ]
  },
  {
   "cell_type": "code",
   "execution_count": 45,
   "id": "c7302aed",
   "metadata": {},
   "outputs": [
    {
     "data": {
      "text/plain": [
       "(63,)"
      ]
     },
     "execution_count": 45,
     "metadata": {},
     "output_type": "execute_result"
    }
   ],
   "source": [
    "df[\"MC_ID\"].value_counts()[df[\"MC_ID\"].value_counts()>1000].shape"
   ]
  },
  {
   "cell_type": "code",
   "execution_count": 52,
   "id": "17d7957a",
   "metadata": {},
   "outputs": [
    {
     "data": {
      "text/plain": [
       "(67,)"
      ]
     },
     "execution_count": 52,
     "metadata": {},
     "output_type": "execute_result"
    }
   ],
   "source": [
    "df[\"MCC_CODE\"].value_counts()[df[\"MCC_CODE\"].value_counts()>500].shape"
   ]
  },
  {
   "cell_type": "code",
   "execution_count": 28,
   "id": "96c4c6b5",
   "metadata": {},
   "outputs": [
    {
     "data": {
      "text/html": [
       "<div>\n",
       "<style scoped>\n",
       "    .dataframe tbody tr th:only-of-type {\n",
       "        vertical-align: middle;\n",
       "    }\n",
       "\n",
       "    .dataframe tbody tr th {\n",
       "        vertical-align: top;\n",
       "    }\n",
       "\n",
       "    .dataframe thead th {\n",
       "        text-align: right;\n",
       "    }\n",
       "</style>\n",
       "<table border=\"1\" class=\"dataframe\">\n",
       "  <thead>\n",
       "    <tr style=\"text-align: right;\">\n",
       "      <th></th>\n",
       "      <th>TARGET</th>\n",
       "      <th>DAY_OF_MONTH</th>\n",
       "      <th>DAY_OF_WEEK</th>\n",
       "      <th>TXN_TIME</th>\n",
       "      <th>TXN_AMNT</th>\n",
       "    </tr>\n",
       "  </thead>\n",
       "  <tbody>\n",
       "    <tr>\n",
       "      <th>count</th>\n",
       "      <td>607507.000000</td>\n",
       "      <td>607507.000000</td>\n",
       "      <td>607507.000000</td>\n",
       "      <td>607507.000000</td>\n",
       "      <td>6.075070e+05</td>\n",
       "    </tr>\n",
       "    <tr>\n",
       "      <th>mean</th>\n",
       "      <td>0.006064</td>\n",
       "      <td>10.644534</td>\n",
       "      <td>4.031208</td>\n",
       "      <td>1434.651467</td>\n",
       "      <td>4.793383e+02</td>\n",
       "    </tr>\n",
       "    <tr>\n",
       "      <th>std</th>\n",
       "      <td>0.077636</td>\n",
       "      <td>5.741443</td>\n",
       "      <td>1.986353</td>\n",
       "      <td>596.431336</td>\n",
       "      <td>1.047062e+04</td>\n",
       "    </tr>\n",
       "    <tr>\n",
       "      <th>min</th>\n",
       "      <td>0.000000</td>\n",
       "      <td>1.000000</td>\n",
       "      <td>1.000000</td>\n",
       "      <td>0.000000</td>\n",
       "      <td>0.000000e+00</td>\n",
       "    </tr>\n",
       "    <tr>\n",
       "      <th>25%</th>\n",
       "      <td>0.000000</td>\n",
       "      <td>6.000000</td>\n",
       "      <td>2.000000</td>\n",
       "      <td>1103.000000</td>\n",
       "      <td>4.000000e+01</td>\n",
       "    </tr>\n",
       "    <tr>\n",
       "      <th>50%</th>\n",
       "      <td>0.000000</td>\n",
       "      <td>11.000000</td>\n",
       "      <td>4.000000</td>\n",
       "      <td>1503.000000</td>\n",
       "      <td>9.000000e+01</td>\n",
       "    </tr>\n",
       "    <tr>\n",
       "      <th>75%</th>\n",
       "      <td>0.000000</td>\n",
       "      <td>16.000000</td>\n",
       "      <td>6.000000</td>\n",
       "      <td>1919.000000</td>\n",
       "      <td>2.400000e+02</td>\n",
       "    </tr>\n",
       "    <tr>\n",
       "      <th>max</th>\n",
       "      <td>1.000000</td>\n",
       "      <td>20.000000</td>\n",
       "      <td>7.000000</td>\n",
       "      <td>2359.000000</td>\n",
       "      <td>4.792970e+06</td>\n",
       "    </tr>\n",
       "  </tbody>\n",
       "</table>\n",
       "</div>"
      ],
      "text/plain": [
       "              TARGET   DAY_OF_MONTH    DAY_OF_WEEK       TXN_TIME  \\\n",
       "count  607507.000000  607507.000000  607507.000000  607507.000000   \n",
       "mean        0.006064      10.644534       4.031208    1434.651467   \n",
       "std         0.077636       5.741443       1.986353     596.431336   \n",
       "min         0.000000       1.000000       1.000000       0.000000   \n",
       "25%         0.000000       6.000000       2.000000    1103.000000   \n",
       "50%         0.000000      11.000000       4.000000    1503.000000   \n",
       "75%         0.000000      16.000000       6.000000    1919.000000   \n",
       "max         1.000000      20.000000       7.000000    2359.000000   \n",
       "\n",
       "           TXN_AMNT  \n",
       "count  6.075070e+05  \n",
       "mean   4.793383e+02  \n",
       "std    1.047062e+04  \n",
       "min    0.000000e+00  \n",
       "25%    4.000000e+01  \n",
       "50%    9.000000e+01  \n",
       "75%    2.400000e+02  \n",
       "max    4.792970e+06  "
      ]
     },
     "execution_count": 28,
     "metadata": {},
     "output_type": "execute_result"
    }
   ],
   "source": [
    "df.describe()"
   ]
  },
  {
   "cell_type": "code",
   "execution_count": 86,
   "id": "f2195646",
   "metadata": {},
   "outputs": [
    {
     "data": {
      "text/html": [
       "<div>\n",
       "<style scoped>\n",
       "    .dataframe tbody tr th:only-of-type {\n",
       "        vertical-align: middle;\n",
       "    }\n",
       "\n",
       "    .dataframe tbody tr th {\n",
       "        vertical-align: top;\n",
       "    }\n",
       "\n",
       "    .dataframe thead th {\n",
       "        text-align: right;\n",
       "    }\n",
       "</style>\n",
       "<table border=\"1\" class=\"dataframe\">\n",
       "  <thead>\n",
       "    <tr style=\"text-align: right;\">\n",
       "      <th></th>\n",
       "      <th>TARGET</th>\n",
       "      <th>DAY_OF_MONTH</th>\n",
       "      <th>DAY_OF_WEEK</th>\n",
       "      <th>TXN_TIME</th>\n",
       "      <th>TXN_AMNT</th>\n",
       "    </tr>\n",
       "  </thead>\n",
       "  <tbody>\n",
       "    <tr>\n",
       "      <th>TARGET</th>\n",
       "      <td>1.000000</td>\n",
       "      <td>-0.011106</td>\n",
       "      <td>0.005135</td>\n",
       "      <td>-0.003887</td>\n",
       "      <td>0.011611</td>\n",
       "    </tr>\n",
       "    <tr>\n",
       "      <th>DAY_OF_MONTH</th>\n",
       "      <td>-0.011106</td>\n",
       "      <td>1.000000</td>\n",
       "      <td>-0.130412</td>\n",
       "      <td>0.018361</td>\n",
       "      <td>0.000261</td>\n",
       "    </tr>\n",
       "    <tr>\n",
       "      <th>DAY_OF_WEEK</th>\n",
       "      <td>0.005135</td>\n",
       "      <td>-0.130412</td>\n",
       "      <td>1.000000</td>\n",
       "      <td>-0.027112</td>\n",
       "      <td>0.000992</td>\n",
       "    </tr>\n",
       "    <tr>\n",
       "      <th>TXN_TIME</th>\n",
       "      <td>-0.003887</td>\n",
       "      <td>0.018361</td>\n",
       "      <td>-0.027112</td>\n",
       "      <td>1.000000</td>\n",
       "      <td>-0.002978</td>\n",
       "    </tr>\n",
       "    <tr>\n",
       "      <th>TXN_AMNT</th>\n",
       "      <td>0.011611</td>\n",
       "      <td>0.000261</td>\n",
       "      <td>0.000992</td>\n",
       "      <td>-0.002978</td>\n",
       "      <td>1.000000</td>\n",
       "    </tr>\n",
       "  </tbody>\n",
       "</table>\n",
       "</div>"
      ],
      "text/plain": [
       "                TARGET  DAY_OF_MONTH  DAY_OF_WEEK  TXN_TIME  TXN_AMNT\n",
       "TARGET        1.000000     -0.011106     0.005135 -0.003887  0.011611\n",
       "DAY_OF_MONTH -0.011106      1.000000    -0.130412  0.018361  0.000261\n",
       "DAY_OF_WEEK   0.005135     -0.130412     1.000000 -0.027112  0.000992\n",
       "TXN_TIME     -0.003887      0.018361    -0.027112  1.000000 -0.002978\n",
       "TXN_AMNT      0.011611      0.000261     0.000992 -0.002978  1.000000"
      ]
     },
     "execution_count": 86,
     "metadata": {},
     "output_type": "execute_result"
    }
   ],
   "source": [
    "df.corr()"
   ]
  },
  {
   "cell_type": "code",
   "execution_count": 82,
   "id": "962a7247",
   "metadata": {},
   "outputs": [],
   "source": [
    "df_pos = df[df[\"TARGET\"]==1]"
   ]
  },
  {
   "cell_type": "code",
   "execution_count": 83,
   "id": "a0b7672c",
   "metadata": {},
   "outputs": [
    {
     "data": {
      "text/plain": [
       "array([[<AxesSubplot:title={'center':'TARGET'}>,\n",
       "        <AxesSubplot:title={'center':'DAY_OF_MONTH'}>],\n",
       "       [<AxesSubplot:title={'center':'DAY_OF_WEEK'}>,\n",
       "        <AxesSubplot:title={'center':'TXN_TIME'}>],\n",
       "       [<AxesSubplot:title={'center':'TXN_AMNT'}>, <AxesSubplot:>]],\n",
       "      dtype=object)"
      ]
     },
     "execution_count": 83,
     "metadata": {},
     "output_type": "execute_result"
    },
    {
     "data": {
      "image/png": "[encoded data removed]",
      "text/plain": [
       "<Figure size 1440x1080 with 6 Axes>"
      ]
     },
     "metadata": {
      "needs_background": "light"
     },
     "output_type": "display_data"
    }
   ],
   "source": [
    "df_pos.hist(bins=50, figsize=(20,15))"
   ]
  },
  {
   "cell_type": "code",
   "execution_count": 84,
   "id": "0884b729",
   "metadata": {},
   "outputs": [],
   "source": [
    "df_neg = df[df[\"TARGET\"]==0]"
   ]
  },
  {
   "cell_type": "code",
   "execution_count": 85,
   "id": "e129f348",
   "metadata": {},
   "outputs": [
    {
     "data": {
      "text/plain": [
       "array([[<AxesSubplot:title={'center':'TARGET'}>,\n",
       "        <AxesSubplot:title={'center':'DAY_OF_MONTH'}>],\n",
       "       [<AxesSubplot:title={'center':'DAY_OF_WEEK'}>,\n",
       "        <AxesSubplot:title={'center':'TXN_TIME'}>],\n",
       "       [<AxesSubplot:title={'center':'TXN_AMNT'}>, <AxesSubplot:>]],\n",
       "      dtype=object)"
      ]
     },
     "execution_count": 85,
     "metadata": {},
     "output_type": "execute_result"
    },
    {
     "data": {
      "image/png": "[encoded data removed]",
      "text/plain": [
       "<Figure size 1440x1080 with 6 Axes>"
      ]
     },
     "metadata": {
      "needs_background": "light"
     },
     "output_type": "display_data"
    }
   ],
   "source": [
    "df_neg.hist(bins=50, figsize=(20,15))"
   ]
  },
  {
   "cell_type": "code",
   "execution_count": 33,
   "id": "3ec3b6f4",
   "metadata": {},
   "outputs": [],
   "source": [
    "from pandas.plotting import scatter_matrix"
   ]
  },
  {
   "cell_type": "code",
   "execution_count": 35,
   "id": "9341e08f",
   "metadata": {},
   "outputs": [
    {
     "data": {
      "text/plain": [
       "array([[<AxesSubplot:xlabel='TARGET', ylabel='TARGET'>,\n",
       "        <AxesSubplot:xlabel='DAY_OF_MONTH', ylabel='TARGET'>,\n",
       "        <AxesSubplot:xlabel='DAY_OF_WEEK', ylabel='TARGET'>,\n",
       "        <AxesSubplot:xlabel='TXN_TIME', ylabel='TARGET'>,\n",
       "        <AxesSubplot:xlabel='TXN_AMNT', ylabel='TARGET'>],\n",
       "       [<AxesSubplot:xlabel='TARGET', ylabel='DAY_OF_MONTH'>,\n",
       "        <AxesSubplot:xlabel='DAY_OF_MONTH', ylabel='DAY_OF_MONTH'>,\n",
       "        <AxesSubplot:xlabel='DAY_OF_WEEK', ylabel='DAY_OF_MONTH'>,\n",
       "        <AxesSubplot:xlabel='TXN_TIME', ylabel='DAY_OF_MONTH'>,\n",
       "        <AxesSubplot:xlabel='TXN_AMNT', ylabel='DAY_OF_MONTH'>],\n",
       "       [<AxesSubplot:xlabel='TARGET', ylabel='DAY_OF_WEEK'>,\n",
       "        <AxesSubplot:xlabel='DAY_OF_MONTH', ylabel='DAY_OF_WEEK'>,\n",
       "        <AxesSubplot:xlabel='DAY_OF_WEEK', ylabel='DAY_OF_WEEK'>,\n",
       "        <AxesSubplot:xlabel='TXN_TIME', ylabel='DAY_OF_WEEK'>,\n",
       "        <AxesSubplot:xlabel='TXN_AMNT', ylabel='DAY_OF_WEEK'>],\n",
       "       [<AxesSubplot:xlabel='TARGET', ylabel='TXN_TIME'>,\n",
       "        <AxesSubplot:xlabel='DAY_OF_MONTH', ylabel='TXN_TIME'>,\n",
       "        <AxesSubplot:xlabel='DAY_OF_WEEK', ylabel='TXN_TIME'>,\n",
       "        <AxesSubplot:xlabel='TXN_TIME', ylabel='TXN_TIME'>,\n",
       "        <AxesSubplot:xlabel='TXN_AMNT', ylabel='TXN_TIME'>],\n",
       "       [<AxesSubplot:xlabel='TARGET', ylabel='TXN_AMNT'>,\n",
       "        <AxesSubplot:xlabel='DAY_OF_MONTH', ylabel='TXN_AMNT'>,\n",
       "        <AxesSubplot:xlabel='DAY_OF_WEEK', ylabel='TXN_AMNT'>,\n",
       "        <AxesSubplot:xlabel='TXN_TIME', ylabel='TXN_AMNT'>,\n",
       "        <AxesSubplot:xlabel='TXN_AMNT', ylabel='TXN_AMNT'>]], dtype=object)"
      ]
     },
     "execution_count": 35,
     "metadata": {},
     "output_type": "execute_result"
    },
    {
     "data": {
      "image/png": "[encoded data removed]",
      "text/plain": [
       "<Figure size 864x576 with 25 Axes>"
      ]
     },
     "metadata": {
      "needs_background": "light"
     },
     "output_type": "display_data"
    }
   ],
   "source": [
    "attribs = [\"TARGET\",\"DAY_OF_MONTH\", \"DAY_OF_WEEK\", \"TXN_TIME\",\"TXN_AMNT\" ]\n",
    "scatter_matrix(df[attribs],figsize=(12,8))"
   ]
  },
  {
   "cell_type": "code",
   "execution_count": null,
   "id": "2d1aff39",
   "metadata": {},
   "outputs": [],
   "source": []
  }
 ],
 "metadata": {
  "kernelspec": {
   "display_name": "Python 3",
   "language": "python",
   "name": "python3"
  },
  "language_info": {
   "codemirror_mode": {
    "name": "ipython",
    "version": 3
   },
   "file_extension": ".py",
   "mimetype": "text/x-python",
   "name": "python",
   "nbconvert_exporter": "python",
   "pygments_lexer": "ipython3",
   "version": "3.8.8"
  }
 },
 "nbformat": 4,
 "nbformat_minor": 5
}
