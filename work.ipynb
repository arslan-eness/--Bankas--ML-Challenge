{
 "cells": [
  {
   "cell_type": "markdown",
   "metadata": {
    "id": "HPjkhv3KBYdW"
   },
   "source": [
    "# Bağlanma"
   ]
  },
  {
   "cell_type": "code",
   "execution_count": 1,
   "metadata": {
    "colab": {
     "base_uri": "https://localhost:8080/"
    },
    "id": "7-rd6viABTTy",
    "outputId": "e1c76d54-15f0-48f9-dbab-b878b3003f00"
   },
   "outputs": [
    {
     "name": "stdout",
     "output_type": "stream",
     "text": [
      "Drive already mounted at /gdrive; to attempt to forcibly remount, call drive.mount(\"/gdrive\", force_remount=True).\n",
      "/gdrive\n"
     ]
    }
   ],
   "source": [
    "from google.colab import drive\n",
    "drive.mount(\"/gdrive\")\n",
    "%cd /gdrive"
   ]
  },
  {
   "cell_type": "code",
   "execution_count": 1,
   "metadata": {
    "id": "rNicu9fEFJ6K"
   },
   "outputs": [],
   "source": [
    "from sklearn.metrics import roc_auc_score\n",
    "from keras.layers import Dense\n",
    "from keras.models import Sequential"
   ]
  },
  {
   "cell_type": "markdown",
   "metadata": {
    "id": "Lm5dE6IjBmw0"
   },
   "source": [
    "# Veri Hazırlama"
   ]
  },
  {
   "cell_type": "markdown",
   "metadata": {
    "id": "tYD8Ng4qB2xr"
   },
   "source": [
    "## Eğitim Seti"
   ]
  },
  {
   "cell_type": "code",
   "execution_count": 33,
   "metadata": {
    "colab": {
     "base_uri": "https://localhost:8080/"
    },
    "id": "aJvNwLOcBjHG",
    "outputId": "f94e24b6-250e-4cab-da7a-9885849aca27"
   },
   "outputs": [
    {
     "name": "stdout",
     "output_type": "stream",
     "text": [
      "Categorical Features Encoded... Categorical Dimensions = 1770\n",
      "Data Preprocessing is done\n"
     ]
    }
   ],
   "source": [
    "import pandas as pd\n",
    "import numpy as np\n",
    "from sklearn.base import BaseEstimator, TransformerMixin\n",
    "from sklearn.preprocessing import OneHotEncoder\n",
    "from sklearn.pipeline import Pipeline\n",
    "from sklearn.preprocessing import StandardScaler,MinMaxScaler\n",
    "\n",
    "\n",
    "        \n",
    "\n",
    "\n",
    "\n",
    "df=pd.read_csv(\"MLChallenge4/train.csv\")\n",
    "\n",
    "\n",
    "\n",
    "#df= df.drop(index=df[df[\"TXN_AMNT\"]>100000].index)\n",
    "#df=df.drop(index=df[df[\"TXN_SOURCE\"]==\"R\"].index)\n",
    "\n",
    "x_df = df[[\"DAY_OF_WEEK\", \"TXN_TIME\", \"TXN_SOURCE\", \"TXN_ENTRY\", \"TXN_AMNT\", \"COUNTRY\",\"MCC_CODE\" ]]\n",
    "\n",
    "ind1 = test_x_df.loc[(test_x_df[\"TXN_TIME\"]>=0) & (test_x_df[\"TXN_TIME\"]<30)].index\n",
    "ind2 = test_x_df.loc[(test_x_df[\"TXN_TIME\"]>=30) & (test_x_df[\"TXN_TIME\"]<100)].index\n",
    "ind3 = test_x_df.loc[(test_x_df[\"TXN_TIME\"]>=100) & (test_x_df[\"TXN_TIME\"]<130)].index\n",
    "ind4 = test_x_df.loc[(test_x_df[\"TXN_TIME\"]>=130) & (test_x_df[\"TXN_TIME\"]<200)] .index\n",
    "ind5 = test_x_df.loc[(test_x_df[\"TXN_TIME\"]>=200) & (test_x_df[\"TXN_TIME\"]<230)].index\n",
    "ind6 = test_x_df.loc[(test_x_df[\"TXN_TIME\"]>=230) & (test_x_df[\"TXN_TIME\"]<300)].index\n",
    "ind7 = test_x_df.loc[(test_x_df[\"TXN_TIME\"]>=300) & (test_x_df[\"TXN_TIME\"]<330)].index\n",
    "ind8 = test_x_df.loc[(test_x_df[\"TXN_TIME\"]>=330) & (test_x_df[\"TXN_TIME\"]<400)].index\n",
    "ind9 = test_x_df.loc[(test_x_df[\"TXN_TIME\"]>=400) & (test_x_df[\"TXN_TIME\"]<430)].index\n",
    "ind10 = test_x_df.loc[(test_x_df[\"TXN_TIME\"]>=430) & (test_x_df[\"TXN_TIME\"]<500)].index\n",
    "ind11 = test_x_df.loc[(test_x_df[\"TXN_TIME\"]>=500) & (test_x_df[\"TXN_TIME\"]<530)].index\n",
    "ind12 = test_x_df.loc[(test_x_df[\"TXN_TIME\"]>=530) & (test_x_df[\"TXN_TIME\"]<600)].index\n",
    "ind13 = test_x_df.loc[(test_x_df[\"TXN_TIME\"]>=600) & (test_x_df[\"TXN_TIME\"]<630)].index\n",
    "ind14 = test_x_df.loc[(test_x_df[\"TXN_TIME\"]>=630) & (test_x_df[\"TXN_TIME\"]<700)].index\n",
    "ind15 = test_x_df.loc[(test_x_df[\"TXN_TIME\"]>=700) & (test_x_df[\"TXN_TIME\"]<730)].index\n",
    "ind16 = test_x_df.loc[(test_x_df[\"TXN_TIME\"]>=730) & (test_x_df[\"TXN_TIME\"]<800)].index\n",
    "ind17 = test_x_df.loc[(test_x_df[\"TXN_TIME\"]>=800) & (test_x_df[\"TXN_TIME\"]<830)].index\n",
    "ind18 = test_x_df.loc[(test_x_df[\"TXN_TIME\"]>=830) & (test_x_df[\"TXN_TIME\"]<900)].index\n",
    "ind19 = test_x_df.loc[(test_x_df[\"TXN_TIME\"]>=900) & (test_x_df[\"TXN_TIME\"]<930)].index\n",
    "ind20 = test_x_df.loc[(test_x_df[\"TXN_TIME\"]>=930) & (test_x_df[\"TXN_TIME\"]<1000)].index\n",
    "ind21 = test_x_df.loc[(test_x_df[\"TXN_TIME\"]>=1000) & (test_x_df[\"TXN_TIME\"]<1030)].index\n",
    "ind22 = test_x_df.loc[(test_x_df[\"TXN_TIME\"]>=1030) & (test_x_df[\"TXN_TIME\"]<1100)].index\n",
    "ind23 = test_x_df.loc[(test_x_df[\"TXN_TIME\"]>=1100) & (test_x_df[\"TXN_TIME\"]<1130)].index\n",
    "ind24 = test_x_df.loc[(test_x_df[\"TXN_TIME\"]>=1130) & (test_x_df[\"TXN_TIME\"]<1200)].index\n",
    "\n",
    "x_df.loc[ind1,\"TXN_TIME\"]= \"1\"\n",
    "x_df.loc[ind2,\"TXN_TIME\"]= \"2\"\n",
    "x_df.loc[ind3,\"TXN_TIME\"]= \"3\"\n",
    "x_df.loc[ind4,\"TXN_TIME\"]= \"4\"\n",
    "x_df.loc[ind5,\"TXN_TIME\"]= \"5\"\n",
    "x_df.loc[ind6,\"TXN_TIME\"]= \"6\"\n",
    "x_df.loc[ind7,\"TXN_TIME\"]= \"7\"\n",
    "x_df.loc[ind8,\"TXN_TIME\"]= \"8\"\n",
    "x_df.loc[ind9,\"TXN_TIME\"]= \"9\"\n",
    "x_df.loc[ind10,\"TXN_TIME\"]= \"10\"\n",
    "x_df.loc[ind11,\"TXN_TIME\"]= \"11\"\n",
    "x_df.loc[ind12,\"TXN_TIME\"]= \"12\"\n",
    "x_df.loc[ind13,\"TXN_TIME\"]= \"13\"\n",
    "x_df.loc[ind14,\"TXN_TIME\"]= \"14\"\n",
    "x_df.loc[ind15,\"TXN_TIME\"]= \"15\"\n",
    "x_df.loc[ind16,\"TXN_TIME\"]= \"16\"\n",
    "x_df.loc[ind17,\"TXN_TIME\"]= \"17\"\n",
    "x_df.loc[ind18,\"TXN_TIME\"]= \"18\"\n",
    "x_df.loc[ind19,\"TXN_TIME\"]= \"19\"\n",
    "x_df.loc[ind20,\"TXN_TIME\"]= \"20\"\n",
    "x_df.loc[ind21,\"TXN_TIME\"]= \"21\"\n",
    "x_df.loc[ind22,\"TXN_TIME\"]= \"22\"\n",
    "x_df.loc[ind23,\"TXN_TIME\"]= \"23\"\n",
    "x_df.loc[ind24,\"TXN_TIME\"]= \"24\"\n",
    "\n",
    "\n",
    "x_categorical = x_df.select_dtypes(exclude=[\"number\",\"bool_\"])\n",
    "x_categorical = pd.concat((x_df[[\"DAY_OF_WEEK\",\"TXN_TIME\"]],x_categorical),axis=1)\n",
    "\n",
    "\n",
    "\n",
    "df_values = x_categorical.values\n",
    "instances_num, features_num =df_values.shape[0], df_values.shape[1]\n",
    "ohe_list = []\n",
    "enc_list = []\n",
    "enc_array = np.empty((instances_num,1))\n",
    "for i in range(features_num):\n",
    "    ohe_list.append(OneHotEncoder(handle_unknown=\"ignore\"))\n",
    "    \n",
    "\n",
    "\n",
    "\n",
    "#x_categorical= x_categorical.drop(index=df[df[\"TXN_AMNT\"]>100000].index)\n",
    "#x_categorical=x_categorical.drop(index=df[df[\"TXN_SOURCE\"]==\"R\"].index)    \n",
    "\n",
    "for i in range(features_num):\n",
    "    enc_list.append(ohe_list[i].fit_transform(x_categorical.iloc[:,i].values.reshape(-1,1)).toarray())\n",
    "        \n",
    "        \n",
    "for i in range(features_num):\n",
    "    enc_array =np.append(enc_array,enc_list[i],axis=1)\n",
    "        \n",
    "enc_array = np.delete(enc_array,0,1)\n",
    "        \n",
    "\n",
    "x_categorical_enc = pd.DataFrame(enc_array)\n",
    "\n",
    "\n",
    "\n",
    "\n",
    "\n",
    "\n",
    "print(\"Categorical Features Encoded... Categorical Dimensions = {}\".format(enc_array.shape[1]))\n",
    "\n",
    "x_numerical = x_df[[\"TXN_AMNT\"]]\n",
    "num_pipeline = Pipeline([\n",
    "    (\"std_scaler\", MinMaxScaler()),\n",
    "])\n",
    "x_numerical_tr = num_pipeline.fit_transform(x_numerical)\n",
    "x_numerical_tr = pd.DataFrame(x_numerical_tr)\n",
    "X = pd.concat((x_categorical_enc,x_numerical_tr),axis=1)\n",
    "\n",
    "Y = df[[\"TARGET\"]]\n",
    "\n",
    "print(\"Data Preprocessing is done\")\n",
    "\n",
    "\n",
    "del x_df,x_categorical, df_values, enc_array,enc_list,x_categorical_enc, x_numerical, x_numerical_tr\n",
    "\n",
    "\n"
   ]
  },
  {
   "cell_type": "markdown",
   "metadata": {
    "id": "EGPH3THeBV5M"
   },
   "source": [
    "## Test Seti"
   ]
  },
  {
   "cell_type": "code",
   "execution_count": 34,
   "metadata": {
    "colab": {
     "base_uri": "https://localhost:8080/"
    },
    "id": "CclrkQDwCkz_",
    "outputId": "7953130e-19d1-424c-dc65-03c67614ac69"
   },
   "outputs": [
    {
     "name": "stdout",
     "output_type": "stream",
     "text": [
      " Test Categorical Features Encoded... Categorical Dimensions = 1770\n",
      " Test Data Preprocessing is done\n"
     ]
    }
   ],
   "source": [
    "test_df=pd.read_csv(\"MLChallenge4/test.csv\")\n",
    "\n",
    "test_x_df = test_df[[\"DAY_OF_WEEK\", \"TXN_TIME\", \"TXN_SOURCE\", \"TXN_ENTRY\", \"TXN_AMNT\", \"COUNTRY\",\"MCC_CODE\" ]]\n",
    "\n",
    "ind1 = test_x_df.loc[(test_x_df[\"TXN_TIME\"]>=0) & (test_x_df[\"TXN_TIME\"]<100)].index\n",
    "ind2 = test_x_df.loc[(test_x_df[\"TXN_TIME\"]>=100) & (test_x_df[\"TXN_TIME\"]<200)].index\n",
    "ind3 = test_x_df.loc[(test_x_df[\"TXN_TIME\"]>=200) & (test_x_df[\"TXN_TIME\"]<300)].index\n",
    "ind4 = test_x_df.loc[(test_x_df[\"TXN_TIME\"]>=300) & (test_x_df[\"TXN_TIME\"]<400)] .index\n",
    "ind5 = test_x_df.loc[(test_x_df[\"TXN_TIME\"]>=400) & (test_x_df[\"TXN_TIME\"]<500)].index\n",
    "ind6 = test_x_df.loc[(test_x_df[\"TXN_TIME\"]>=500) & (test_x_df[\"TXN_TIME\"]<600)].index\n",
    "ind7 = test_x_df.loc[(test_x_df[\"TXN_TIME\"]>=600) & (test_x_df[\"TXN_TIME\"]<700)].index\n",
    "ind8 = test_x_df.loc[(test_x_df[\"TXN_TIME\"]>=700) & (test_x_df[\"TXN_TIME\"]<800)].index\n",
    "ind9 = test_x_df.loc[(test_x_df[\"TXN_TIME\"]>=800) & (test_x_df[\"TXN_TIME\"]<900)].index\n",
    "ind10 = test_x_df.loc[(test_x_df[\"TXN_TIME\"]>=900) & (test_x_df[\"TXN_TIME\"]<1000)].index\n",
    "ind11 = test_x_df.loc[(test_x_df[\"TXN_TIME\"]>=1000) & (test_x_df[\"TXN_TIME\"]<1100)].index\n",
    "ind12 = test_x_df.loc[(test_x_df[\"TXN_TIME\"]>=1100) & (test_x_df[\"TXN_TIME\"]<1200)].index\n",
    "ind13 = test_x_df.loc[(test_x_df[\"TXN_TIME\"]>=1200) & (test_x_df[\"TXN_TIME\"]<1300)].index\n",
    "ind14 = test_x_df.loc[(test_x_df[\"TXN_TIME\"]>=1300) & (test_x_df[\"TXN_TIME\"]<1400)].index\n",
    "ind15 = test_x_df.loc[(test_x_df[\"TXN_TIME\"]>=1400) & (test_x_df[\"TXN_TIME\"]<1500)].index\n",
    "ind16 = test_x_df.loc[(test_x_df[\"TXN_TIME\"]>=1500) & (test_x_df[\"TXN_TIME\"]<1600)].index\n",
    "ind17 = test_x_df.loc[(test_x_df[\"TXN_TIME\"]>=1600) & (test_x_df[\"TXN_TIME\"]<1700)].index\n",
    "ind18 = test_x_df.loc[(test_x_df[\"TXN_TIME\"]>=1700) & (test_x_df[\"TXN_TIME\"]<1800)].index\n",
    "ind19 = test_x_df.loc[(test_x_df[\"TXN_TIME\"]>=1800) & (test_x_df[\"TXN_TIME\"]<1900)].index\n",
    "ind20 = test_x_df.loc[(test_x_df[\"TXN_TIME\"]>=1900) & (test_x_df[\"TXN_TIME\"]<2000)].index\n",
    "ind21 = test_x_df.loc[(test_x_df[\"TXN_TIME\"]>=2000) & (test_x_df[\"TXN_TIME\"]<2100)].index\n",
    "ind22 = test_x_df.loc[(test_x_df[\"TXN_TIME\"]>=2100) & (test_x_df[\"TXN_TIME\"]<2200)].index\n",
    "ind23 = test_x_df.loc[(test_x_df[\"TXN_TIME\"]>=2200) & (test_x_df[\"TXN_TIME\"]<2300)].index\n",
    "ind24 = test_x_df.loc[(test_x_df[\"TXN_TIME\"]>=2300) & (test_x_df[\"TXN_TIME\"]<2400)].index\n",
    "\n",
    "test_x_df.loc[ind1,\"TXN_TIME\"]= \"1\"\n",
    "test_x_df.loc[ind2,\"TXN_TIME\"]= \"2\"\n",
    "test_x_df.loc[ind3,\"TXN_TIME\"]= \"3\"\n",
    "test_x_df.loc[ind4,\"TXN_TIME\"]= \"4\"\n",
    "test_x_df.loc[ind5,\"TXN_TIME\"]= \"5\"\n",
    "test_x_df.loc[ind6,\"TXN_TIME\"]= \"6\"\n",
    "test_x_df.loc[ind7,\"TXN_TIME\"]= \"7\"\n",
    "test_x_df.loc[ind8,\"TXN_TIME\"]= \"8\"\n",
    "test_x_df.loc[ind9,\"TXN_TIME\"]= \"9\"\n",
    "test_x_df.loc[ind10,\"TXN_TIME\"]= \"10\"\n",
    "test_x_df.loc[ind11,\"TXN_TIME\"]= \"11\"\n",
    "test_x_df.loc[ind12,\"TXN_TIME\"]= \"12\"\n",
    "test_x_df.loc[ind13,\"TXN_TIME\"]= \"13\"\n",
    "test_x_df.loc[ind14,\"TXN_TIME\"]= \"14\"\n",
    "test_x_df.loc[ind15,\"TXN_TIME\"]= \"15\"\n",
    "test_x_df.loc[ind16,\"TXN_TIME\"]= \"16\"\n",
    "test_x_df.loc[ind17,\"TXN_TIME\"]= \"17\"\n",
    "test_x_df.loc[ind18,\"TXN_TIME\"]= \"18\"\n",
    "test_x_df.loc[ind19,\"TXN_TIME\"]= \"19\"\n",
    "test_x_df.loc[ind20,\"TXN_TIME\"]= \"20\"\n",
    "test_x_df.loc[ind21,\"TXN_TIME\"]= \"21\"\n",
    "test_x_df.loc[ind22,\"TXN_TIME\"]= \"22\"\n",
    "test_x_df.loc[ind23,\"TXN_TIME\"]= \"23\"\n",
    "test_x_df.loc[ind24,\"TXN_TIME\"]= \"24\"\n",
    "\n",
    "\n",
    "\n",
    "test_x_categorical = test_x_df.select_dtypes(exclude=[\"number\",\"bool_\"])\n",
    "test_x_categorical = pd.concat((test_x_df[[\"DAY_OF_WEEK\",\"TXN_TIME\"]],test_x_categorical),axis=1)\n",
    "\n",
    "#cat_transformer = Categorical_Proc()\n",
    "#test_x_categorical_enc = cat_transformer.tranform(test_x_categorical)\n",
    "\n",
    "test_df_values = test_x_categorical.values\n",
    "test_instances_num, test_features_num =test_df_values.shape[0], test_df_values.shape[1]\n",
    "\n",
    "test_enc_list = []\n",
    "test_enc_array = np.empty((test_instances_num,1))\n",
    "for i in range(test_features_num):\n",
    "        test_enc_list.append(ohe_list[i].transform(test_x_categorical.iloc[:,i].values.reshape(-1,1)).toarray())\n",
    "for i in range(test_features_num):\n",
    "        test_enc_array =np.append(test_enc_array,test_enc_list[i],axis=1)\n",
    "test_enc_array = np.delete(test_enc_array,0,1)\n",
    "test_x_categorical_enc = pd.DataFrame(test_enc_array)\n",
    "\n",
    "\n",
    "print(\" Test Categorical Features Encoded... Categorical Dimensions = {}\".format(test_enc_array.shape[1]))\n",
    "\n",
    "test_x_numerical = test_x_df[[\"TXN_AMNT\"]]\n",
    "num_pipeline = Pipeline([\n",
    "    (\"std_scaler\", MinMaxScaler()),\n",
    "])\n",
    "test_x_numerical_tr = num_pipeline.fit_transform(test_x_numerical)\n",
    "test_x_numerical_tr = pd.DataFrame(test_x_numerical_tr)\n",
    "TEST_X = pd.concat((test_x_categorical_enc,test_x_numerical_tr),axis=1)\n",
    "\n",
    "del test_df, test_x_categorical, test_df_values, test_enc_array, test_enc_list, test_x_categorical_enc, test_x_numerical, test_x_numerical_tr\n",
    "\n",
    "print(\" Test Data Preprocessing is done\")"
   ]
  },
  {
   "cell_type": "code",
   "execution_count": 9,
   "metadata": {},
   "outputs": [
    {
     "data": {
      "text/plain": [
       "12d7720f7273e2a1cfb2adf5daba868b767db6281b34b312c4a4    252062\n",
       "12b4164904d6ecac8163670f59dc63330075d27d1d191a4219b2     73946\n",
       "34d600ed59b9dee0ed2ebefcfc24d306be443c0d04b9ae276364       223\n",
       "27f9157f828401e4cecd7046da52d6ecf6c6623fc677c1d803ec         1\n",
       "Name: TXN_ENTRY, dtype: int64"
      ]
     },
     "execution_count": 9,
     "metadata": {},
     "output_type": "execute_result"
    }
   ],
   "source": [
    "test_x_df[\"TXN_ENTRY\"].value_counts()"
   ]
  },
  {
   "cell_type": "code",
   "execution_count": 8,
   "metadata": {
    "scrolled": true
   },
   "outputs": [
    {
     "data": {
      "text/plain": [
       "12d7720f7273e2a1cfb2adf5daba868b767db6281b34b312c4a4    463479\n",
       "12b4164904d6ecac8163670f59dc63330075d27d1d191a4219b2    143517\n",
       "34d600ed59b9dee0ed2ebefcfc24d306be443c0d04b9ae276364       427\n",
       "Name: TXN_ENTRY, dtype: int64"
      ]
     },
     "execution_count": 8,
     "metadata": {},
     "output_type": "execute_result"
    }
   ],
   "source": [
    "x_df[\"TXN_ENTRY\"]."
   ]
  },
  {
   "cell_type": "code",
   "execution_count": 22,
   "metadata": {
    "scrolled": true
   },
   "outputs": [
    {
     "ename": "NameError",
     "evalue": "name 'test_df' is not defined",
     "output_type": "error",
     "traceback": [
      "\u001b[1;31m---------------------------------------------------------------------------\u001b[0m",
      "\u001b[1;31mNameError\u001b[0m                                 Traceback (most recent call last)",
      "\u001b[1;32m<ipython-input-22-0b6d391e4635>\u001b[0m in \u001b[0;36m<module>\u001b[1;34m\u001b[0m\n\u001b[1;32m----> 1\u001b[1;33m \u001b[0mlen\u001b[0m\u001b[1;33m(\u001b[0m\u001b[0mtest_df\u001b[0m\u001b[1;33m[\u001b[0m\u001b[1;34m\"COUNTRY\"\u001b[0m\u001b[1;33m]\u001b[0m\u001b[1;33m.\u001b[0m\u001b[0mvalue_counts\u001b[0m\u001b[1;33m(\u001b[0m\u001b[1;33m)\u001b[0m\u001b[1;33m)\u001b[0m\u001b[1;31m#hist(bins=50,log=True)\u001b[0m\u001b[1;33m\u001b[0m\u001b[1;33m\u001b[0m\u001b[0m\n\u001b[0m",
      "\u001b[1;31mNameError\u001b[0m: name 'test_df' is not defined"
     ]
    }
   ],
   "source": [
    "len(test_df[\"COUNTRY\"].value_counts())#hist(bins=50,log=True)"
   ]
  },
  {
   "cell_type": "code",
   "execution_count": 13,
   "metadata": {},
   "outputs": [
    {
     "data": {
      "text/html": [
       "<div>\n",
       "<style scoped>\n",
       "    .dataframe tbody tr th:only-of-type {\n",
       "        vertical-align: middle;\n",
       "    }\n",
       "\n",
       "    .dataframe tbody tr th {\n",
       "        vertical-align: top;\n",
       "    }\n",
       "\n",
       "    .dataframe thead th {\n",
       "        text-align: right;\n",
       "    }\n",
       "</style>\n",
       "<table border=\"1\" class=\"dataframe\">\n",
       "  <thead>\n",
       "    <tr style=\"text-align: right;\">\n",
       "      <th></th>\n",
       "      <th>DAY_OF_WEEK</th>\n",
       "      <th>TXN_TIME</th>\n",
       "      <th>TXN_SOURCE</th>\n",
       "      <th>TXN_ENTRY</th>\n",
       "      <th>TXN_AMNT</th>\n",
       "      <th>COUNTRY</th>\n",
       "      <th>MCC_CODE</th>\n",
       "    </tr>\n",
       "  </thead>\n",
       "  <tbody>\n",
       "    <tr>\n",
       "      <th>0</th>\n",
       "      <td>2.0</td>\n",
       "      <td>20</td>\n",
       "      <td>O</td>\n",
       "      <td>12b4164904d6ecac8163670f59dc63330075d27d1d191a...</td>\n",
       "      <td>1900.0</td>\n",
       "      <td>368a2b6e4893c8ab01c18959a187dcde2ab916161f72e1...</td>\n",
       "      <td>9c5ab283ab8a30e71a94b80bbf81c6459b998d9233c845...</td>\n",
       "    </tr>\n",
       "    <tr>\n",
       "      <th>1</th>\n",
       "      <td>3.0</td>\n",
       "      <td>12</td>\n",
       "      <td>O</td>\n",
       "      <td>12d7720f7273e2a1cfb2adf5daba868b767db6281b34b3...</td>\n",
       "      <td>80.0</td>\n",
       "      <td>368a2b6e4893c8ab01c18959a187dcde2ab916161f72e1...</td>\n",
       "      <td>9b509123dc98501d21939de143413e6505e546eccedbcb...</td>\n",
       "    </tr>\n",
       "    <tr>\n",
       "      <th>2</th>\n",
       "      <td>3.0</td>\n",
       "      <td>18</td>\n",
       "      <td>O</td>\n",
       "      <td>12b4164904d6ecac8163670f59dc63330075d27d1d191a...</td>\n",
       "      <td>2730.0</td>\n",
       "      <td>368a2b6e4893c8ab01c18959a187dcde2ab916161f72e1...</td>\n",
       "      <td>2ae12c28b5bebf8e0b332f8eeb226ebba9de07a958db9b...</td>\n",
       "    </tr>\n",
       "    <tr>\n",
       "      <th>3</th>\n",
       "      <td>3.0</td>\n",
       "      <td>3</td>\n",
       "      <td>O</td>\n",
       "      <td>12b4164904d6ecac8163670f59dc63330075d27d1d191a...</td>\n",
       "      <td>9680.0</td>\n",
       "      <td>368a2b6e4893c8ab01c18959a187dcde2ab916161f72e1...</td>\n",
       "      <td>3c7ce134e41449a3fbe18892efdf90304e12e052ae35a2...</td>\n",
       "    </tr>\n",
       "    <tr>\n",
       "      <th>4</th>\n",
       "      <td>3.0</td>\n",
       "      <td>3</td>\n",
       "      <td>O</td>\n",
       "      <td>12b4164904d6ecac8163670f59dc63330075d27d1d191a...</td>\n",
       "      <td>1740.0</td>\n",
       "      <td>368a2b6e4893c8ab01c18959a187dcde2ab916161f72e1...</td>\n",
       "      <td>2ae12c28b5bebf8e0b332f8eeb226ebba9de07a958db9b...</td>\n",
       "    </tr>\n",
       "    <tr>\n",
       "      <th>...</th>\n",
       "      <td>...</td>\n",
       "      <td>...</td>\n",
       "      <td>...</td>\n",
       "      <td>...</td>\n",
       "      <td>...</td>\n",
       "      <td>...</td>\n",
       "      <td>...</td>\n",
       "    </tr>\n",
       "    <tr>\n",
       "      <th>326227</th>\n",
       "      <td>1.0</td>\n",
       "      <td>18</td>\n",
       "      <td>O</td>\n",
       "      <td>12d7720f7273e2a1cfb2adf5daba868b767db6281b34b3...</td>\n",
       "      <td>130.0</td>\n",
       "      <td>368a2b6e4893c8ab01c18959a187dcde2ab916161f72e1...</td>\n",
       "      <td>f334ac9eaeb3276272f270538e1cd3b27d8c8b8d719374...</td>\n",
       "    </tr>\n",
       "    <tr>\n",
       "      <th>326228</th>\n",
       "      <td>7.0</td>\n",
       "      <td>19</td>\n",
       "      <td>O</td>\n",
       "      <td>12d7720f7273e2a1cfb2adf5daba868b767db6281b34b3...</td>\n",
       "      <td>100.0</td>\n",
       "      <td>368a2b6e4893c8ab01c18959a187dcde2ab916161f72e1...</td>\n",
       "      <td>77b669500ba0d0667610fd2768553b9cf7f6c874808124...</td>\n",
       "    </tr>\n",
       "    <tr>\n",
       "      <th>326229</th>\n",
       "      <td>3.0</td>\n",
       "      <td>16</td>\n",
       "      <td>O</td>\n",
       "      <td>12d7720f7273e2a1cfb2adf5daba868b767db6281b34b3...</td>\n",
       "      <td>60.0</td>\n",
       "      <td>368a2b6e4893c8ab01c18959a187dcde2ab916161f72e1...</td>\n",
       "      <td>f334ac9eaeb3276272f270538e1cd3b27d8c8b8d719374...</td>\n",
       "    </tr>\n",
       "    <tr>\n",
       "      <th>326230</th>\n",
       "      <td>3.0</td>\n",
       "      <td>12</td>\n",
       "      <td>O</td>\n",
       "      <td>12b4164904d6ecac8163670f59dc63330075d27d1d191a...</td>\n",
       "      <td>140.0</td>\n",
       "      <td>368a2b6e4893c8ab01c18959a187dcde2ab916161f72e1...</td>\n",
       "      <td>9bcde6cbc9021358668bc16cd3fbf6715669db89fd4570...</td>\n",
       "    </tr>\n",
       "    <tr>\n",
       "      <th>326231</th>\n",
       "      <td>3.0</td>\n",
       "      <td>23</td>\n",
       "      <td>O</td>\n",
       "      <td>12b4164904d6ecac8163670f59dc63330075d27d1d191a...</td>\n",
       "      <td>390.0</td>\n",
       "      <td>368a2b6e4893c8ab01c18959a187dcde2ab916161f72e1...</td>\n",
       "      <td>32944c5abfb28c2b1266fc602f41644f500313e96f9f4a...</td>\n",
       "    </tr>\n",
       "  </tbody>\n",
       "</table>\n",
       "<p>326232 rows × 7 columns</p>\n",
       "</div>"
      ],
      "text/plain": [
       "        DAY_OF_WEEK TXN_TIME TXN_SOURCE  \\\n",
       "0               2.0       20          O   \n",
       "1               3.0       12          O   \n",
       "2               3.0       18          O   \n",
       "3               3.0        3          O   \n",
       "4               3.0        3          O   \n",
       "...             ...      ...        ...   \n",
       "326227          1.0       18          O   \n",
       "326228          7.0       19          O   \n",
       "326229          3.0       16          O   \n",
       "326230          3.0       12          O   \n",
       "326231          3.0       23          O   \n",
       "\n",
       "                                                TXN_ENTRY  TXN_AMNT  \\\n",
       "0       12b4164904d6ecac8163670f59dc63330075d27d1d191a...    1900.0   \n",
       "1       12d7720f7273e2a1cfb2adf5daba868b767db6281b34b3...      80.0   \n",
       "2       12b4164904d6ecac8163670f59dc63330075d27d1d191a...    2730.0   \n",
       "3       12b4164904d6ecac8163670f59dc63330075d27d1d191a...    9680.0   \n",
       "4       12b4164904d6ecac8163670f59dc63330075d27d1d191a...    1740.0   \n",
       "...                                                   ...       ...   \n",
       "326227  12d7720f7273e2a1cfb2adf5daba868b767db6281b34b3...     130.0   \n",
       "326228  12d7720f7273e2a1cfb2adf5daba868b767db6281b34b3...     100.0   \n",
       "326229  12d7720f7273e2a1cfb2adf5daba868b767db6281b34b3...      60.0   \n",
       "326230  12b4164904d6ecac8163670f59dc63330075d27d1d191a...     140.0   \n",
       "326231  12b4164904d6ecac8163670f59dc63330075d27d1d191a...     390.0   \n",
       "\n",
       "                                                  COUNTRY  \\\n",
       "0       368a2b6e4893c8ab01c18959a187dcde2ab916161f72e1...   \n",
       "1       368a2b6e4893c8ab01c18959a187dcde2ab916161f72e1...   \n",
       "2       368a2b6e4893c8ab01c18959a187dcde2ab916161f72e1...   \n",
       "3       368a2b6e4893c8ab01c18959a187dcde2ab916161f72e1...   \n",
       "4       368a2b6e4893c8ab01c18959a187dcde2ab916161f72e1...   \n",
       "...                                                   ...   \n",
       "326227  368a2b6e4893c8ab01c18959a187dcde2ab916161f72e1...   \n",
       "326228  368a2b6e4893c8ab01c18959a187dcde2ab916161f72e1...   \n",
       "326229  368a2b6e4893c8ab01c18959a187dcde2ab916161f72e1...   \n",
       "326230  368a2b6e4893c8ab01c18959a187dcde2ab916161f72e1...   \n",
       "326231  368a2b6e4893c8ab01c18959a187dcde2ab916161f72e1...   \n",
       "\n",
       "                                                 MCC_CODE  \n",
       "0       9c5ab283ab8a30e71a94b80bbf81c6459b998d9233c845...  \n",
       "1       9b509123dc98501d21939de143413e6505e546eccedbcb...  \n",
       "2       2ae12c28b5bebf8e0b332f8eeb226ebba9de07a958db9b...  \n",
       "3       3c7ce134e41449a3fbe18892efdf90304e12e052ae35a2...  \n",
       "4       2ae12c28b5bebf8e0b332f8eeb226ebba9de07a958db9b...  \n",
       "...                                                   ...  \n",
       "326227  f334ac9eaeb3276272f270538e1cd3b27d8c8b8d719374...  \n",
       "326228  77b669500ba0d0667610fd2768553b9cf7f6c874808124...  \n",
       "326229  f334ac9eaeb3276272f270538e1cd3b27d8c8b8d719374...  \n",
       "326230  9bcde6cbc9021358668bc16cd3fbf6715669db89fd4570...  \n",
       "326231  32944c5abfb28c2b1266fc602f41644f500313e96f9f4a...  \n",
       "\n",
       "[326232 rows x 7 columns]"
      ]
     },
     "execution_count": 13,
     "metadata": {},
     "output_type": "execute_result"
    }
   ],
   "source": [
    "test_x_df"
   ]
  },
  {
   "cell_type": "markdown",
   "metadata": {
    "id": "FhmzKpGnDaS8"
   },
   "source": [
    "# Eğitim Kümesi Ayrılması"
   ]
  },
  {
   "cell_type": "code",
   "execution_count": 35,
   "metadata": {
    "id": "og-0gN3wDdiC"
   },
   "outputs": [],
   "source": [
    "from sklearn.model_selection import train_test_split\n",
    "X_train,X_test,Y_train,Y_test = train_test_split(X.values,Y,test_size=0.01,random_state=42)"
   ]
  },
  {
   "cell_type": "code",
   "execution_count": 26,
   "metadata": {
    "id": "rfaelHmiDub6"
   },
   "outputs": [
    {
     "data": {
      "text/plain": [
       "TARGET\n",
       "0.0       6040\n",
       "1.0         36\n",
       "dtype: int64"
      ]
     },
     "execution_count": 26,
     "metadata": {},
     "output_type": "execute_result"
    }
   ],
   "source": [
    "Y_test_df = pd.DataFrame(Y_test)\n",
    "Y_test_df.value_counts()"
   ]
  },
  {
   "cell_type": "markdown",
   "metadata": {
    "id": "0UGYrbwRD_0H"
   },
   "source": [
    "# UnderSampling "
   ]
  },
  {
   "cell_type": "code",
   "execution_count": 6,
   "metadata": {},
   "outputs": [
    {
     "data": {
      "text/plain": [
       "array([[<AxesSubplot:title={'center':'TARGET'}>]], dtype=object)"
      ]
     },
     "execution_count": 6,
     "metadata": {},
     "output_type": "execute_result"
    },
    {
     "data": {
      "image/png": "[encoded data removed]",
      "text/plain": [
       "<Figure size 432x288 with 1 Axes>"
      ]
     },
     "metadata": {
      "needs_background": "light"
     },
     "output_type": "display_data"
    }
   ],
   "source": [
    "from imblearn.over_sampling import SMOTE\n",
    "oversample = SMOTE(sampling_strategy=0.01)\n",
    "Xb,Yb = oversample.fit_resample(X_train,Y_train)\n",
    "Yb_df= pd.DataFrame(Yb)\n",
    "Yb_df.hist()"
   ]
  },
  {
   "cell_type": "code",
   "execution_count": 37,
   "metadata": {
    "id": "b4NG9k7dENfy",
    "scrolled": false
   },
   "outputs": [
    {
     "data": {
      "text/plain": [
       "array([[<AxesSubplot:title={'center':'TARGET'}>]], dtype=object)"
      ]
     },
     "execution_count": 37,
     "metadata": {},
     "output_type": "execute_result"
    },
    {
     "data": {
      "image/png": "[encoded data removed]",
      "text/plain": [
       "<Figure size 432x288 with 1 Axes>"
      ]
     },
     "metadata": {
      "needs_background": "light"
     },
     "output_type": "display_data"
    }
   ],
   "source": [
    "from imblearn.under_sampling import RandomUnderSampler\n",
    "undersample = RandomUnderSampler(sampling_strategy=0.1,random_state=42)\n",
    "XX,YY = undersample.fit_resample(X_train,Y_train)\n",
    "XX_df = pd.DataFrame(XX)\n",
    "YY_df = pd.DataFrame(YY)\n",
    "YY_df.hist()"
   ]
  },
  {
   "cell_type": "code",
   "execution_count": 173,
   "metadata": {},
   "outputs": [
    {
     "data": {
      "text/plain": [
       "163.97887517146776"
      ]
     },
     "execution_count": 173,
     "metadata": {},
     "output_type": "execute_result"
    }
   ],
   "source": [
    "Y_train_df = pd.DataFrame(Y_train)\n",
    "w1 = Y_train_df.value_counts()[1]/Y_train_df.shape[0]\n",
    "w0 = Y_train_df.value_counts()[0]/Y_train_df.shape[0]\n",
    "w0/w1"
   ]
  },
  {
   "cell_type": "code",
   "execution_count": 115,
   "metadata": {},
   "outputs": [],
   "source": [
    "X_train_df = pd.DataFrame(X_train)"
   ]
  },
  {
   "cell_type": "code",
   "execution_count": 116,
   "metadata": {},
   "outputs": [
    {
     "data": {
      "text/plain": [
       "array([[<AxesSubplot:title={'center':'TARGET'}>]], dtype=object)"
      ]
     },
     "execution_count": 116,
     "metadata": {},
     "output_type": "execute_result"
    },
    {
     "data": {
      "image/png": "[encoded data removed]",
      "text/plain": [
       "<Figure size 432x288 with 1 Axes>"
      ]
     },
     "metadata": {
      "needs_background": "light"
     },
     "output_type": "display_data"
    }
   ],
   "source": [
    "Y_train_df.hist()"
   ]
  },
  {
   "cell_type": "markdown",
   "metadata": {
    "id": "k6VRXT9dEe2C"
   },
   "source": [
    "## Model Ağırlıklarının Belirlenmesi"
   ]
  },
  {
   "cell_type": "code",
   "execution_count": 174,
   "metadata": {
    "id": "uBZrY7uZEl4W"
   },
   "outputs": [
    {
     "data": {
      "text/plain": [
       "10.0"
      ]
     },
     "execution_count": 174,
     "metadata": {},
     "output_type": "execute_result"
    }
   ],
   "source": [
    "w1 = YY_df.value_counts()[1]/YY_df.shape[0]\n",
    "w0 = YY_df.value_counts()[0]/YY_df.shape[0]\n",
    "w0/w1"
   ]
  },
  {
   "cell_type": "code",
   "execution_count": 175,
   "metadata": {
    "id": "CigL1jnSEp7E"
   },
   "outputs": [],
   "source": [
    "weights = {0:1, 1:10}"
   ]
  },
  {
   "cell_type": "markdown",
   "metadata": {
    "id": "WyNyhsd5EWNF"
   },
   "source": [
    "# Model 1"
   ]
  },
  {
   "cell_type": "code",
   "execution_count": 190,
   "metadata": {
    "id": "rFFtr7dZEX6I"
   },
   "outputs": [],
   "source": [
    "model = Sequential()\n",
    "model.add(Dense(75, input_dim=X.shape[1], activation=\"relu\", kernel_initializer=\"he_uniform\"))\n",
    "model.add(Dense(25,activation=\"relu\"))\n",
    "#model.add(keras.layers.Dropout(0.5))\n",
    "model.add(Dense(5,activation=\"relu\"))\n",
    "#model.add(keras.layers.Dropout(0.5))\n",
    "model.add(Dense(1, activation=\"sigmoid\"))\n",
    "model.compile(loss=tf.keras.losses.BinaryCrossentropy(from_logits=True), \n",
    "              optimizer=\"sgd\", \n",
    "              metrics=[tf.keras.metrics.AUC()])"
   ]
  },
  {
   "cell_type": "code",
   "execution_count": 191,
   "metadata": {},
   "outputs": [],
   "source": [
    "import keras\n",
    "import tensorflow as tf\n",
    "es_callback = keras.callbacks.EarlyStopping(monitor='val_auc_6', patience=10)"
   ]
  },
  {
   "cell_type": "code",
   "execution_count": 192,
   "metadata": {
    "id": "XRAoNZGBFMaM",
    "scrolled": false
   },
   "outputs": [
    {
     "name": "stdout",
     "output_type": "stream",
     "text": [
      "Epoch 1/100\n",
      "1249/1253 [============================>.] - ETA: 0s - loss: 1.2771 - auc_7: 0.6665WARNING:tensorflow:Early stopping conditioned on metric `val_auc_6` which is not available. Available metrics are: loss,auc_7,val_loss,val_auc_7\n",
      "1253/1253 [==============================] - 3s 2ms/step - loss: 1.2769 - auc_7: 0.6668 - val_loss: 0.8490 - val_auc_7: 0.8617\n",
      "Epoch 2/100\n",
      "1248/1253 [============================>.] - ETA: 0s - loss: 1.1596 - auc_7: 0.8129WARNING:tensorflow:Early stopping conditioned on metric `val_auc_6` which is not available. Available metrics are: loss,auc_7,val_loss,val_auc_7\n",
      "1253/1253 [==============================] - 2s 2ms/step - loss: 1.1596 - auc_7: 0.8128 - val_loss: 0.7811 - val_auc_7: 0.8661\n",
      "Epoch 3/100\n",
      "1240/1253 [============================>.] - ETA: 0s - loss: 1.1063 - auc_7: 0.8306WARNING:tensorflow:Early stopping conditioned on metric `val_auc_6` which is not available. Available metrics are: loss,auc_7,val_loss,val_auc_7\n",
      "1253/1253 [==============================] - 3s 2ms/step - loss: 1.1054 - auc_7: 0.8311 - val_loss: 0.7631 - val_auc_7: 0.8793\n",
      "Epoch 4/100\n",
      "1244/1253 [============================>.] - ETA: 0s - loss: 1.0926 - auc_7: 0.8378WARNING:tensorflow:Early stopping conditioned on metric `val_auc_6` which is not available. Available metrics are: loss,auc_7,val_loss,val_auc_7\n",
      "1253/1253 [==============================] - 3s 2ms/step - loss: 1.0923 - auc_7: 0.8378 - val_loss: 0.7589 - val_auc_7: 0.8906\n",
      "Epoch 5/100\n",
      "1238/1253 [============================>.] - ETA: 0s - loss: 1.0863 - auc_7: 0.8402WARNING:tensorflow:Early stopping conditioned on metric `val_auc_6` which is not available. Available metrics are: loss,auc_7,val_loss,val_auc_7\n",
      "1253/1253 [==============================] - 2s 2ms/step - loss: 1.0853 - auc_7: 0.8399 - val_loss: 0.7596 - val_auc_7: 0.8905\n",
      "Epoch 6/100\n",
      "1225/1253 [============================>.] - ETA: 0s - loss: 1.0808 - auc_7: 0.8428WARNING:tensorflow:Early stopping conditioned on metric `val_auc_6` which is not available. Available metrics are: loss,auc_7,val_loss,val_auc_7\n",
      "1253/1253 [==============================] - 2s 2ms/step - loss: 1.0800 - auc_7: 0.8433 - val_loss: 0.7619 - val_auc_7: 0.9031\n",
      "Epoch 7/100\n",
      "1224/1253 [============================>.] - ETA: 0s - loss: 1.0729 - auc_7: 0.8490WARNING:tensorflow:Early stopping conditioned on metric `val_auc_6` which is not available. Available metrics are: loss,auc_7,val_loss,val_auc_7\n",
      "1253/1253 [==============================] - 2s 2ms/step - loss: 1.0749 - auc_7: 0.8476 - val_loss: 0.7679 - val_auc_7: 0.9095\n",
      "Epoch 8/100\n",
      "1241/1253 [============================>.] - ETA: 0s - loss: 1.0705 - auc_7: 0.8462WARNING:tensorflow:Early stopping conditioned on metric `val_auc_6` which is not available. Available metrics are: loss,auc_7,val_loss,val_auc_7\n",
      "1253/1253 [==============================] - 2s 2ms/step - loss: 1.0700 - auc_7: 0.8464 - val_loss: 0.7549 - val_auc_7: 0.8897\n",
      "Epoch 9/100\n",
      "1240/1253 [============================>.] - ETA: 0s - loss: 1.0674 - auc_7: 0.8432WARNING:tensorflow:Early stopping conditioned on metric `val_auc_6` which is not available. Available metrics are: loss,auc_7,val_loss,val_auc_7\n",
      "1253/1253 [==============================] - 2s 2ms/step - loss: 1.0675 - auc_7: 0.8436 - val_loss: 0.7657 - val_auc_7: 0.8876\n",
      "Epoch 10/100\n",
      "1229/1253 [============================>.] - ETA: 0s - loss: 1.0655 - auc_7: 0.8445WARNING:tensorflow:Early stopping conditioned on metric `val_auc_6` which is not available. Available metrics are: loss,auc_7,val_loss,val_auc_7\n",
      "1253/1253 [==============================] - 2s 2ms/step - loss: 1.0659 - auc_7: 0.8449 - val_loss: 0.7610 - val_auc_7: 0.8926\n",
      "Epoch 11/100\n",
      "1227/1253 [============================>.] - ETA: 0s - loss: 1.0634 - auc_7: 0.8426WARNING:tensorflow:Early stopping conditioned on metric `val_auc_6` which is not available. Available metrics are: loss,auc_7,val_loss,val_auc_7\n",
      "1253/1253 [==============================] - 2s 2ms/step - loss: 1.0644 - auc_7: 0.8432 - val_loss: 0.7549 - val_auc_7: 0.8966\n",
      "Epoch 12/100\n",
      "1222/1253 [============================>.] - ETA: 0s - loss: 1.0645 - auc_7: 0.8434WARNING:tensorflow:Early stopping conditioned on metric `val_auc_6` which is not available. Available metrics are: loss,auc_7,val_loss,val_auc_7\n",
      "1253/1253 [==============================] - 3s 2ms/step - loss: 1.0632 - auc_7: 0.8438 - val_loss: 0.7572 - val_auc_7: 0.8942\n",
      "Epoch 13/100\n",
      "1237/1253 [============================>.] - ETA: 0s - loss: 1.0603 - auc_7: 0.8462WARNING:tensorflow:Early stopping conditioned on metric `val_auc_6` which is not available. Available metrics are: loss,auc_7,val_loss,val_auc_7\n",
      "1253/1253 [==============================] - 2s 2ms/step - loss: 1.0620 - auc_7: 0.8444 - val_loss: 0.7543 - val_auc_7: 0.8976\n",
      "Epoch 14/100\n",
      "1251/1253 [============================>.] - ETA: 0s - loss: 1.0610 - auc_7: 0.8454WARNING:tensorflow:Early stopping conditioned on metric `val_auc_6` which is not available. Available metrics are: loss,auc_7,val_loss,val_auc_7\n",
      "1253/1253 [==============================] - 3s 2ms/step - loss: 1.0609 - auc_7: 0.8454 - val_loss: 0.7586 - val_auc_7: 0.8955\n",
      "Epoch 15/100\n",
      "1246/1253 [============================>.] - ETA: 0s - loss: 1.0610 - auc_7: 0.8444WARNING:tensorflow:Early stopping conditioned on metric `val_auc_6` which is not available. Available metrics are: loss,auc_7,val_loss,val_auc_7\n",
      "1253/1253 [==============================] - 2s 2ms/step - loss: 1.0601 - auc_7: 0.8448 - val_loss: 0.7591 - val_auc_7: 0.8950\n",
      "Epoch 16/100\n",
      "1242/1253 [============================>.] - ETA: 0s - loss: 1.0593 - auc_7: 0.8456WARNING:tensorflow:Early stopping conditioned on metric `val_auc_6` which is not available. Available metrics are: loss,auc_7,val_loss,val_auc_7\n",
      "1253/1253 [==============================] - 2s 2ms/step - loss: 1.0592 - auc_7: 0.8460 - val_loss: 0.7521 - val_auc_7: 0.8983\n",
      "Epoch 17/100\n",
      "1242/1253 [============================>.] - ETA: 0s - loss: 1.0581 - auc_7: 0.8471WARNING:tensorflow:Early stopping conditioned on metric `val_auc_6` which is not available. Available metrics are: loss,auc_7,val_loss,val_auc_7\n",
      "1253/1253 [==============================] - 2s 2ms/step - loss: 1.0585 - auc_7: 0.8467 - val_loss: 0.7525 - val_auc_7: 0.8987\n",
      "Epoch 18/100\n",
      "1250/1253 [============================>.] - ETA: 0s - loss: 1.0570 - auc_7: 0.8460WARNING:tensorflow:Early stopping conditioned on metric `val_auc_6` which is not available. Available metrics are: loss,auc_7,val_loss,val_auc_7\n",
      "1253/1253 [==============================] - 2s 2ms/step - loss: 1.0576 - auc_7: 0.8454 - val_loss: 0.7514 - val_auc_7: 0.8985\n",
      "Epoch 19/100\n",
      "1224/1253 [============================>.] - ETA: 0s - loss: 1.0569 - auc_7: 0.8469WARNING:tensorflow:Early stopping conditioned on metric `val_auc_6` which is not available. Available metrics are: loss,auc_7,val_loss,val_auc_7\n",
      "1253/1253 [==============================] - 2s 2ms/step - loss: 1.0569 - auc_7: 0.8466 - val_loss: 0.7537 - val_auc_7: 0.8984\n",
      "Epoch 20/100\n",
      "1228/1253 [============================>.] - ETA: 0s - loss: 1.0572 - auc_7: 0.8480WARNING:tensorflow:Early stopping conditioned on metric `val_auc_6` which is not available. Available metrics are: loss,auc_7,val_loss,val_auc_7\n",
      "1253/1253 [==============================] - 2s 2ms/step - loss: 1.0562 - auc_7: 0.8481 - val_loss: 0.7502 - val_auc_7: 0.9001\n",
      "Epoch 21/100\n",
      "1223/1253 [============================>.] - ETA: 0s - loss: 1.0564 - auc_7: 0.8472WARNING:tensorflow:Early stopping conditioned on metric `val_auc_6` which is not available. Available metrics are: loss,auc_7,val_loss,val_auc_7\n",
      "1253/1253 [==============================] - 2s 2ms/step - loss: 1.0558 - auc_7: 0.8468 - val_loss: 0.7523 - val_auc_7: 0.8979\n",
      "Epoch 22/100\n",
      "1244/1253 [============================>.] - ETA: 0s - loss: 1.0548 - auc_7: 0.8476WARNING:tensorflow:Early stopping conditioned on metric `val_auc_6` which is not available. Available metrics are: loss,auc_7,val_loss,val_auc_7\n",
      "1253/1253 [==============================] - 2s 2ms/step - loss: 1.0550 - auc_7: 0.8475 - val_loss: 0.7502 - val_auc_7: 0.8996\n",
      "Epoch 23/100\n",
      "1241/1253 [============================>.] - ETA: 0s - loss: 1.0534 - auc_7: 0.8510WARNING:tensorflow:Early stopping conditioned on metric `val_auc_6` which is not available. Available metrics are: loss,auc_7,val_loss,val_auc_7\n"
     ]
    },
    {
     "name": "stdout",
     "output_type": "stream",
     "text": [
      "1253/1253 [==============================] - 2s 2ms/step - loss: 1.0544 - auc_7: 0.8499 - val_loss: 0.7568 - val_auc_7: 0.9046\n",
      "Epoch 24/100\n",
      "1229/1253 [============================>.] - ETA: 0s - loss: 1.0547 - auc_7: 0.8489WARNING:tensorflow:Early stopping conditioned on metric `val_auc_6` which is not available. Available metrics are: loss,auc_7,val_loss,val_auc_7\n",
      "1253/1253 [==============================] - 2s 2ms/step - loss: 1.0539 - auc_7: 0.8492 - val_loss: 0.7525 - val_auc_7: 0.8982\n",
      "Epoch 25/100\n",
      "1234/1253 [============================>.] - ETA: 0s - loss: 1.0529 - auc_7: 0.8512WARNING:tensorflow:Early stopping conditioned on metric `val_auc_6` which is not available. Available metrics are: loss,auc_7,val_loss,val_auc_7\n",
      "1253/1253 [==============================] - 2s 2ms/step - loss: 1.0530 - auc_7: 0.8513 - val_loss: 0.7544 - val_auc_7: 0.8953\n",
      "Epoch 26/100\n",
      "1235/1253 [============================>.] - ETA: 0s - loss: 1.0514 - auc_7: 0.8564WARNING:tensorflow:Early stopping conditioned on metric `val_auc_6` which is not available. Available metrics are: loss,auc_7,val_loss,val_auc_7\n",
      "1253/1253 [==============================] - 2s 2ms/step - loss: 1.0522 - auc_7: 0.8567 - val_loss: 0.7616 - val_auc_7: 0.9002\n",
      "Epoch 27/100\n",
      "1237/1253 [============================>.] - ETA: 0s - loss: 1.0511 - auc_7: 0.8589WARNING:tensorflow:Early stopping conditioned on metric `val_auc_6` which is not available. Available metrics are: loss,auc_7,val_loss,val_auc_7\n",
      "1253/1253 [==============================] - 2s 2ms/step - loss: 1.0507 - auc_7: 0.8596 - val_loss: 0.7521 - val_auc_7: 0.8977\n",
      "Epoch 28/100\n",
      "1240/1253 [============================>.] - ETA: 0s - loss: 1.0511 - auc_7: 0.8568WARNING:tensorflow:Early stopping conditioned on metric `val_auc_6` which is not available. Available metrics are: loss,auc_7,val_loss,val_auc_7\n",
      "1253/1253 [==============================] - 2s 2ms/step - loss: 1.0503 - auc_7: 0.8571 - val_loss: 0.7521 - val_auc_7: 0.8870\n",
      "Epoch 29/100\n",
      "1248/1253 [============================>.] - ETA: 0s - loss: 1.0493 - auc_7: 0.8595WARNING:tensorflow:Early stopping conditioned on metric `val_auc_6` which is not available. Available metrics are: loss,auc_7,val_loss,val_auc_7\n",
      "1253/1253 [==============================] - 2s 2ms/step - loss: 1.0490 - auc_7: 0.8596 - val_loss: 0.7529 - val_auc_7: 0.8874\n",
      "Epoch 30/100\n",
      "1252/1253 [============================>.] - ETA: 0s - loss: 1.0485 - auc_7: 0.8595WARNING:tensorflow:Early stopping conditioned on metric `val_auc_6` which is not available. Available metrics are: loss,auc_7,val_loss,val_auc_7\n",
      "1253/1253 [==============================] - 2s 2ms/step - loss: 1.0486 - auc_7: 0.8596 - val_loss: 0.7598 - val_auc_7: 0.9016\n",
      "Epoch 31/100\n",
      "1240/1253 [============================>.] - ETA: 0s - loss: 1.0483 - auc_7: 0.8591WARNING:tensorflow:Early stopping conditioned on metric `val_auc_6` which is not available. Available metrics are: loss,auc_7,val_loss,val_auc_7\n",
      "1253/1253 [==============================] - 2s 2ms/step - loss: 1.0478 - auc_7: 0.8595 - val_loss: 0.7480 - val_auc_7: 0.8910\n",
      "Epoch 32/100\n",
      "1240/1253 [============================>.] - ETA: 0s - loss: 1.0469 - auc_7: 0.8601WARNING:tensorflow:Early stopping conditioned on metric `val_auc_6` which is not available. Available metrics are: loss,auc_7,val_loss,val_auc_7\n",
      "1253/1253 [==============================] - 2s 2ms/step - loss: 1.0469 - auc_7: 0.8599 - val_loss: 0.7515 - val_auc_7: 0.8875\n",
      "Epoch 33/100\n",
      "1224/1253 [============================>.] - ETA: 0s - loss: 1.0477 - auc_7: 0.8606WARNING:tensorflow:Early stopping conditioned on metric `val_auc_6` which is not available. Available metrics are: loss,auc_7,val_loss,val_auc_7\n",
      "1253/1253 [==============================] - 2s 2ms/step - loss: 1.0462 - auc_7: 0.8610 - val_loss: 0.7519 - val_auc_7: 0.8866\n",
      "Epoch 34/100\n",
      "1239/1253 [============================>.] - ETA: 0s - loss: 1.0463 - auc_7: 0.8619WARNING:tensorflow:Early stopping conditioned on metric `val_auc_6` which is not available. Available metrics are: loss,auc_7,val_loss,val_auc_7\n",
      "1253/1253 [==============================] - 2s 2ms/step - loss: 1.0456 - auc_7: 0.8618 - val_loss: 0.7465 - val_auc_7: 0.8905\n",
      "Epoch 35/100\n",
      "1236/1253 [============================>.] - ETA: 0s - loss: 1.0449 - auc_7: 0.8614WARNING:tensorflow:Early stopping conditioned on metric `val_auc_6` which is not available. Available metrics are: loss,auc_7,val_loss,val_auc_7\n",
      "1253/1253 [==============================] - 2s 2ms/step - loss: 1.0448 - auc_7: 0.8610 - val_loss: 0.7559 - val_auc_7: 0.8966\n",
      "Epoch 36/100\n",
      "1229/1253 [============================>.] - ETA: 0s - loss: 1.0433 - auc_7: 0.8633WARNING:tensorflow:Early stopping conditioned on metric `val_auc_6` which is not available. Available metrics are: loss,auc_7,val_loss,val_auc_7\n",
      "1253/1253 [==============================] - 2s 2ms/step - loss: 1.0438 - auc_7: 0.8629 - val_loss: 0.7586 - val_auc_7: 0.9082\n",
      "Epoch 37/100\n",
      "1232/1253 [============================>.] - ETA: 0s - loss: 1.0440 - auc_7: 0.8614WARNING:tensorflow:Early stopping conditioned on metric `val_auc_6` which is not available. Available metrics are: loss,auc_7,val_loss,val_auc_7\n",
      "1253/1253 [==============================] - 2s 2ms/step - loss: 1.0437 - auc_7: 0.8612 - val_loss: 0.7564 - val_auc_7: 0.8961\n",
      "Epoch 38/100\n",
      "1245/1253 [============================>.] - ETA: 0s - loss: 1.0428 - auc_7: 0.8614WARNING:tensorflow:Early stopping conditioned on metric `val_auc_6` which is not available. Available metrics are: loss,auc_7,val_loss,val_auc_7\n",
      "1253/1253 [==============================] - 2s 2ms/step - loss: 1.0425 - auc_7: 0.8615 - val_loss: 0.7508 - val_auc_7: 0.9021\n",
      "Epoch 39/100\n",
      "1229/1253 [============================>.] - ETA: 0s - loss: 1.0429 - auc_7: 0.8605WARNING:tensorflow:Early stopping conditioned on metric `val_auc_6` which is not available. Available metrics are: loss,auc_7,val_loss,val_auc_7\n",
      "1253/1253 [==============================] - 3s 2ms/step - loss: 1.0421 - auc_7: 0.8616 - val_loss: 0.7518 - val_auc_7: 0.9007\n",
      "Epoch 40/100\n",
      "1228/1253 [============================>.] - ETA: 0s - loss: 1.0432 - auc_7: 0.8621WARNING:tensorflow:Early stopping conditioned on metric `val_auc_6` which is not available. Available metrics are: loss,auc_7,val_loss,val_auc_7\n",
      "1253/1253 [==============================] - 2s 2ms/step - loss: 1.0415 - auc_7: 0.8629 - val_loss: 0.7424 - val_auc_7: 0.9054\n",
      "Epoch 41/100\n",
      "1240/1253 [============================>.] - ETA: 0s - loss: 1.0408 - auc_7: 0.8634WARNING:tensorflow:Early stopping conditioned on metric `val_auc_6` which is not available. Available metrics are: loss,auc_7,val_loss,val_auc_7\n",
      "1253/1253 [==============================] - 2s 2ms/step - loss: 1.0411 - auc_7: 0.8626 - val_loss: 0.7453 - val_auc_7: 0.9033\n",
      "Epoch 42/100\n",
      "1238/1253 [============================>.] - ETA: 0s - loss: 1.0400 - auc_7: 0.8632WARNING:tensorflow:Early stopping conditioned on metric `val_auc_6` which is not available. Available metrics are: loss,auc_7,val_loss,val_auc_7\n",
      "1253/1253 [==============================] - 2s 2ms/step - loss: 1.0405 - auc_7: 0.8628 - val_loss: 0.7530 - val_auc_7: 0.9131\n",
      "Epoch 43/100\n",
      "1239/1253 [============================>.] - ETA: 0s - loss: 1.0403 - auc_7: 0.8625WARNING:tensorflow:Early stopping conditioned on metric `val_auc_6` which is not available. Available metrics are: loss,auc_7,val_loss,val_auc_7\n",
      "1253/1253 [==============================] - 2s 2ms/step - loss: 1.0399 - auc_7: 0.8626 - val_loss: 0.7486 - val_auc_7: 0.9040\n",
      "Epoch 44/100\n",
      "1228/1253 [============================>.] - ETA: 0s - loss: 1.0392 - auc_7: 0.8633WARNING:tensorflow:Early stopping conditioned on metric `val_auc_6` which is not available. Available metrics are: loss,auc_7,val_loss,val_auc_7\n",
      "1253/1253 [==============================] - 2s 2ms/step - loss: 1.0393 - auc_7: 0.8633 - val_loss: 0.7524 - val_auc_7: 0.9116\n",
      "Epoch 45/100\n",
      "1235/1253 [============================>.] - ETA: 0s - loss: 1.0396 - auc_7: 0.8623WARNING:tensorflow:Early stopping conditioned on metric `val_auc_6` which is not available. Available metrics are: loss,auc_7,val_loss,val_auc_7\n",
      "1253/1253 [==============================] - 2s 2ms/step - loss: 1.0391 - auc_7: 0.8631 - val_loss: 0.7513 - val_auc_7: 0.9031\n"
     ]
    },
    {
     "name": "stdout",
     "output_type": "stream",
     "text": [
      "Epoch 46/100\n",
      "1226/1253 [============================>.] - ETA: 0s - loss: 1.0386 - auc_7: 0.8628WARNING:tensorflow:Early stopping conditioned on metric `val_auc_6` which is not available. Available metrics are: loss,auc_7,val_loss,val_auc_7\n",
      "1253/1253 [==============================] - 2s 2ms/step - loss: 1.0383 - auc_7: 0.8633 - val_loss: 0.7477 - val_auc_7: 0.9046\n",
      "Epoch 47/100\n",
      "1253/1253 [==============================] - ETA: 0s - loss: 1.0379 - auc_7: 0.8641WARNING:tensorflow:Early stopping conditioned on metric `val_auc_6` which is not available. Available metrics are: loss,auc_7,val_loss,val_auc_7\n",
      "1253/1253 [==============================] - 2s 2ms/step - loss: 1.0379 - auc_7: 0.8641 - val_loss: 0.7470 - val_auc_7: 0.9034\n",
      "Epoch 48/100\n",
      "1252/1253 [============================>.] - ETA: 0s - loss: 1.0373 - auc_7: 0.8643WARNING:tensorflow:Early stopping conditioned on metric `val_auc_6` which is not available. Available metrics are: loss,auc_7,val_loss,val_auc_7\n",
      "1253/1253 [==============================] - 2s 2ms/step - loss: 1.0373 - auc_7: 0.8643 - val_loss: 0.7456 - val_auc_7: 0.9045\n",
      "Epoch 49/100\n",
      "1238/1253 [============================>.] - ETA: 0s - loss: 1.0373 - auc_7: 0.8644WARNING:tensorflow:Early stopping conditioned on metric `val_auc_6` which is not available. Available metrics are: loss,auc_7,val_loss,val_auc_7\n",
      "1253/1253 [==============================] - 3s 2ms/step - loss: 1.0370 - auc_7: 0.8641 - val_loss: 0.7448 - val_auc_7: 0.9048\n",
      "Epoch 50/100\n",
      "1252/1253 [============================>.] - ETA: 0s - loss: 1.0361 - auc_7: 0.8629WARNING:tensorflow:Early stopping conditioned on metric `val_auc_6` which is not available. Available metrics are: loss,auc_7,val_loss,val_auc_7\n",
      "1253/1253 [==============================] - 3s 2ms/step - loss: 1.0362 - auc_7: 0.8628 - val_loss: 0.7525 - val_auc_7: 0.9168\n",
      "Epoch 51/100\n",
      "1246/1253 [============================>.] - ETA: 0s - loss: 1.0359 - auc_7: 0.8634WARNING:tensorflow:Early stopping conditioned on metric `val_auc_6` which is not available. Available metrics are: loss,auc_7,val_loss,val_auc_7\n",
      "1253/1253 [==============================] - 3s 2ms/step - loss: 1.0358 - auc_7: 0.8635 - val_loss: 0.7513 - val_auc_7: 0.9155\n",
      "Epoch 52/100\n",
      "1235/1253 [============================>.] - ETA: 0s - loss: 1.0354 - auc_7: 0.8627WARNING:tensorflow:Early stopping conditioned on metric `val_auc_6` which is not available. Available metrics are: loss,auc_7,val_loss,val_auc_7\n",
      "1253/1253 [==============================] - 2s 2ms/step - loss: 1.0353 - auc_7: 0.8624 - val_loss: 0.7431 - val_auc_7: 0.9069\n",
      "Epoch 53/100\n",
      "1223/1253 [============================>.] - ETA: 0s - loss: 1.0354 - auc_7: 0.8640WARNING:tensorflow:Early stopping conditioned on metric `val_auc_6` which is not available. Available metrics are: loss,auc_7,val_loss,val_auc_7\n",
      "1253/1253 [==============================] - 2s 2ms/step - loss: 1.0350 - auc_7: 0.8636 - val_loss: 0.7522 - val_auc_7: 0.9152\n",
      "Epoch 54/100\n",
      "1245/1253 [============================>.] - ETA: 0s - loss: 1.0350 - auc_7: 0.8642WARNING:tensorflow:Early stopping conditioned on metric `val_auc_6` which is not available. Available metrics are: loss,auc_7,val_loss,val_auc_7\n",
      "1253/1253 [==============================] - 2s 2ms/step - loss: 1.0347 - auc_7: 0.8640 - val_loss: 0.7406 - val_auc_7: 0.9087\n",
      "Epoch 55/100\n",
      "1239/1253 [============================>.] - ETA: 0s - loss: 1.0347 - auc_7: 0.8648WARNING:tensorflow:Early stopping conditioned on metric `val_auc_6` which is not available. Available metrics are: loss,auc_7,val_loss,val_auc_7\n",
      "1253/1253 [==============================] - 2s 2ms/step - loss: 1.0343 - auc_7: 0.8647 - val_loss: 0.7438 - val_auc_7: 0.9076\n",
      "Epoch 56/100\n",
      "1248/1253 [============================>.] - ETA: 0s - loss: 1.0346 - auc_7: 0.8648WARNING:tensorflow:Early stopping conditioned on metric `val_auc_6` which is not available. Available metrics are: loss,auc_7,val_loss,val_auc_7\n",
      "1253/1253 [==============================] - 2s 2ms/step - loss: 1.0339 - auc_7: 0.8650 - val_loss: 0.7433 - val_auc_7: 0.9080\n",
      "Epoch 57/100\n",
      "1248/1253 [============================>.] - ETA: 0s - loss: 1.0338 - auc_7: 0.8643WARNING:tensorflow:Early stopping conditioned on metric `val_auc_6` which is not available. Available metrics are: loss,auc_7,val_loss,val_auc_7\n",
      "1253/1253 [==============================] - 2s 2ms/step - loss: 1.0332 - auc_7: 0.8643 - val_loss: 0.7478 - val_auc_7: 0.9053\n",
      "Epoch 58/100\n",
      "1243/1253 [============================>.] - ETA: 0s - loss: 1.0327 - auc_7: 0.8648WARNING:tensorflow:Early stopping conditioned on metric `val_auc_6` which is not available. Available metrics are: loss,auc_7,val_loss,val_auc_7\n",
      "1253/1253 [==============================] - 2s 2ms/step - loss: 1.0327 - auc_7: 0.8649 - val_loss: 0.7567 - val_auc_7: 0.9163\n",
      "Epoch 59/100\n",
      "1248/1253 [============================>.] - ETA: 0s - loss: 1.0330 - auc_7: 0.8671WARNING:tensorflow:Early stopping conditioned on metric `val_auc_6` which is not available. Available metrics are: loss,auc_7,val_loss,val_auc_7\n",
      "1253/1253 [==============================] - 2s 2ms/step - loss: 1.0329 - auc_7: 0.8670 - val_loss: 0.7461 - val_auc_7: 0.9201\n",
      "Epoch 60/100\n",
      "1231/1253 [============================>.] - ETA: 0s - loss: 1.0327 - auc_7: 0.8665WARNING:tensorflow:Early stopping conditioned on metric `val_auc_6` which is not available. Available metrics are: loss,auc_7,val_loss,val_auc_7\n",
      "1253/1253 [==============================] - 2s 2ms/step - loss: 1.0320 - auc_7: 0.8673 - val_loss: 0.7471 - val_auc_7: 0.9172\n",
      "Epoch 61/100\n",
      "1226/1253 [============================>.] - ETA: 0s - loss: 1.0322 - auc_7: 0.8679WARNING:tensorflow:Early stopping conditioned on metric `val_auc_6` which is not available. Available metrics are: loss,auc_7,val_loss,val_auc_7\n",
      "1253/1253 [==============================] - 2s 2ms/step - loss: 1.0317 - auc_7: 0.8674 - val_loss: 0.7373 - val_auc_7: 0.9109\n",
      "Epoch 62/100\n",
      "1230/1253 [============================>.] - ETA: 0s - loss: 1.0303 - auc_7: 0.8678WARNING:tensorflow:Early stopping conditioned on metric `val_auc_6` which is not available. Available metrics are: loss,auc_7,val_loss,val_auc_7\n",
      "1253/1253 [==============================] - 2s 2ms/step - loss: 1.0311 - auc_7: 0.8679 - val_loss: 0.7505 - val_auc_7: 0.9190\n",
      "Epoch 63/100\n",
      "1237/1253 [============================>.] - ETA: 0s - loss: 1.0306 - auc_7: 0.8682WARNING:tensorflow:Early stopping conditioned on metric `val_auc_6` which is not available. Available metrics are: loss,auc_7,val_loss,val_auc_7\n",
      "1253/1253 [==============================] - 2s 2ms/step - loss: 1.0307 - auc_7: 0.8677 - val_loss: 0.7375 - val_auc_7: 0.9113\n",
      "Epoch 64/100\n",
      "1235/1253 [============================>.] - ETA: 0s - loss: 1.0299 - auc_7: 0.8664WARNING:tensorflow:Early stopping conditioned on metric `val_auc_6` which is not available. Available metrics are: loss,auc_7,val_loss,val_auc_7\n",
      "1253/1253 [==============================] - 2s 2ms/step - loss: 1.0306 - auc_7: 0.8661 - val_loss: 0.7401 - val_auc_7: 0.9109\n",
      "Epoch 65/100\n",
      "1238/1253 [============================>.] - ETA: 0s - loss: 1.0293 - auc_7: 0.8689WARNING:tensorflow:Early stopping conditioned on metric `val_auc_6` which is not available. Available metrics are: loss,auc_7,val_loss,val_auc_7\n",
      "1253/1253 [==============================] - 2s 2ms/step - loss: 1.0300 - auc_7: 0.8677 - val_loss: 0.7451 - val_auc_7: 0.9076\n",
      "Epoch 66/100\n",
      "1227/1253 [============================>.] - ETA: 0s - loss: 1.0314 - auc_7: 0.8680WARNING:tensorflow:Early stopping conditioned on metric `val_auc_6` which is not available. Available metrics are: loss,auc_7,val_loss,val_auc_7\n",
      "1253/1253 [==============================] - 2s 2ms/step - loss: 1.0296 - auc_7: 0.8685 - val_loss: 0.7359 - val_auc_7: 0.9113\n",
      "Epoch 67/100\n",
      "1230/1253 [============================>.] - ETA: 0s - loss: 1.0286 - auc_7: 0.8684WARNING:tensorflow:Early stopping conditioned on metric `val_auc_6` which is not available. Available metrics are: loss,auc_7,val_loss,val_auc_7\n",
      "1253/1253 [==============================] - 2s 2ms/step - loss: 1.0295 - auc_7: 0.8688 - val_loss: 0.7406 - val_auc_7: 0.9105\n",
      "Epoch 68/100\n",
      "1244/1253 [============================>.] - ETA: 0s - loss: 1.0296 - auc_7: 0.8705WARNING:tensorflow:Early stopping conditioned on metric `val_auc_6` which is not available. Available metrics are: loss,auc_7,val_loss,val_auc_7\n"
     ]
    },
    {
     "name": "stdout",
     "output_type": "stream",
     "text": [
      "1253/1253 [==============================] - 3s 2ms/step - loss: 1.0290 - auc_7: 0.8700 - val_loss: 0.7388 - val_auc_7: 0.9099\n",
      "Epoch 69/100\n",
      "1250/1253 [============================>.] - ETA: 0s - loss: 1.0283 - auc_7: 0.8707WARNING:tensorflow:Early stopping conditioned on metric `val_auc_6` which is not available. Available metrics are: loss,auc_7,val_loss,val_auc_7\n",
      "1253/1253 [==============================] - 2s 2ms/step - loss: 1.0278 - auc_7: 0.8708 - val_loss: 0.7350 - val_auc_7: 0.9113\n",
      "Epoch 70/100\n",
      "1228/1253 [============================>.] - ETA: 0s - loss: 1.0294 - auc_7: 0.8705WARNING:tensorflow:Early stopping conditioned on metric `val_auc_6` which is not available. Available metrics are: loss,auc_7,val_loss,val_auc_7\n",
      "1253/1253 [==============================] - 2s 2ms/step - loss: 1.0284 - auc_7: 0.8704 - val_loss: 0.7367 - val_auc_7: 0.9120\n",
      "Epoch 71/100\n",
      "1237/1253 [============================>.] - ETA: 0s - loss: 1.0271 - auc_7: 0.8712WARNING:tensorflow:Early stopping conditioned on metric `val_auc_6` which is not available. Available metrics are: loss,auc_7,val_loss,val_auc_7\n",
      "1253/1253 [==============================] - 2s 2ms/step - loss: 1.0275 - auc_7: 0.8705 - val_loss: 0.7411 - val_auc_7: 0.9089\n",
      "Epoch 72/100\n",
      "1249/1253 [============================>.] - ETA: 0s - loss: 1.0266 - auc_7: 0.8698WARNING:tensorflow:Early stopping conditioned on metric `val_auc_6` which is not available. Available metrics are: loss,auc_7,val_loss,val_auc_7\n",
      "1253/1253 [==============================] - 2s 2ms/step - loss: 1.0268 - auc_7: 0.8698 - val_loss: 0.7392 - val_auc_7: 0.9077\n",
      "Epoch 73/100\n",
      "1223/1253 [============================>.] - ETA: 0s - loss: 1.0256 - auc_7: 0.8719WARNING:tensorflow:Early stopping conditioned on metric `val_auc_6` which is not available. Available metrics are: loss,auc_7,val_loss,val_auc_7\n",
      "1253/1253 [==============================] - 2s 2ms/step - loss: 1.0273 - auc_7: 0.8710 - val_loss: 0.7439 - val_auc_7: 0.9088\n",
      "Epoch 74/100\n",
      "1238/1253 [============================>.] - ETA: 0s - loss: 1.0266 - auc_7: 0.8708WARNING:tensorflow:Early stopping conditioned on metric `val_auc_6` which is not available. Available metrics are: loss,auc_7,val_loss,val_auc_7\n",
      "1253/1253 [==============================] - 2s 2ms/step - loss: 1.0269 - auc_7: 0.8713 - val_loss: 0.7385 - val_auc_7: 0.9135\n",
      "Epoch 75/100\n",
      "1232/1253 [============================>.] - ETA: 0s - loss: 1.0248 - auc_7: 0.8715WARNING:tensorflow:Early stopping conditioned on metric `val_auc_6` which is not available. Available metrics are: loss,auc_7,val_loss,val_auc_7\n",
      "1253/1253 [==============================] - 2s 2ms/step - loss: 1.0259 - auc_7: 0.8705 - val_loss: 0.7429 - val_auc_7: 0.9120\n",
      "Epoch 76/100\n",
      "1224/1253 [============================>.] - ETA: 0s - loss: 1.0257 - auc_7: 0.8714WARNING:tensorflow:Early stopping conditioned on metric `val_auc_6` which is not available. Available metrics are: loss,auc_7,val_loss,val_auc_7\n",
      "1253/1253 [==============================] - 2s 2ms/step - loss: 1.0254 - auc_7: 0.8713 - val_loss: 0.7413 - val_auc_7: 0.9091\n",
      "Epoch 77/100\n",
      "1226/1253 [============================>.] - ETA: 0s - loss: 1.0275 - auc_7: 0.8715WARNING:tensorflow:Early stopping conditioned on metric `val_auc_6` which is not available. Available metrics are: loss,auc_7,val_loss,val_auc_7\n",
      "1253/1253 [==============================] - 2s 2ms/step - loss: 1.0258 - auc_7: 0.8723 - val_loss: 0.7396 - val_auc_7: 0.9110\n",
      "Epoch 78/100\n",
      "1228/1253 [============================>.] - ETA: 0s - loss: 1.0256 - auc_7: 0.8721WARNING:tensorflow:Early stopping conditioned on metric `val_auc_6` which is not available. Available metrics are: loss,auc_7,val_loss,val_auc_7\n",
      "1253/1253 [==============================] - 2s 2ms/step - loss: 1.0250 - auc_7: 0.8729 - val_loss: 0.7347 - val_auc_7: 0.9136\n",
      "Epoch 79/100\n",
      "1252/1253 [============================>.] - ETA: 0s - loss: 1.0244 - auc_7: 0.8728WARNING:tensorflow:Early stopping conditioned on metric `val_auc_6` which is not available. Available metrics are: loss,auc_7,val_loss,val_auc_7\n",
      "1253/1253 [==============================] - 2s 2ms/step - loss: 1.0243 - auc_7: 0.8729 - val_loss: 0.7363 - val_auc_7: 0.9106\n",
      "Epoch 80/100\n",
      "1225/1253 [============================>.] - ETA: 0s - loss: 1.0229 - auc_7: 0.8724WARNING:tensorflow:Early stopping conditioned on metric `val_auc_6` which is not available. Available metrics are: loss,auc_7,val_loss,val_auc_7\n",
      "1253/1253 [==============================] - 2s 2ms/step - loss: 1.0242 - auc_7: 0.8723 - val_loss: 0.7351 - val_auc_7: 0.9132\n",
      "Epoch 81/100\n",
      "1249/1253 [============================>.] - ETA: 0s - loss: 1.0235 - auc_7: 0.8718WARNING:tensorflow:Early stopping conditioned on metric `val_auc_6` which is not available. Available metrics are: loss,auc_7,val_loss,val_auc_7\n",
      "1253/1253 [==============================] - 2s 2ms/step - loss: 1.0236 - auc_7: 0.8717 - val_loss: 0.7307 - val_auc_7: 0.9001\n",
      "Epoch 82/100\n",
      "1234/1253 [============================>.] - ETA: 0s - loss: 1.0250 - auc_7: 0.8724WARNING:tensorflow:Early stopping conditioned on metric `val_auc_6` which is not available. Available metrics are: loss,auc_7,val_loss,val_auc_7\n",
      "1253/1253 [==============================] - 3s 2ms/step - loss: 1.0241 - auc_7: 0.8726 - val_loss: 0.7325 - val_auc_7: 0.9115\n",
      "Epoch 83/100\n",
      "1241/1253 [============================>.] - ETA: 0s - loss: 1.0238 - auc_7: 0.8723WARNING:tensorflow:Early stopping conditioned on metric `val_auc_6` which is not available. Available metrics are: loss,auc_7,val_loss,val_auc_7\n",
      "1253/1253 [==============================] - 2s 2ms/step - loss: 1.0235 - auc_7: 0.8726 - val_loss: 0.7329 - val_auc_7: 0.9135\n",
      "Epoch 84/100\n",
      "1240/1253 [============================>.] - ETA: 0s - loss: 1.0227 - auc_7: 0.8732WARNING:tensorflow:Early stopping conditioned on metric `val_auc_6` which is not available. Available metrics are: loss,auc_7,val_loss,val_auc_7\n",
      "1253/1253 [==============================] - 2s 2ms/step - loss: 1.0232 - auc_7: 0.8732 - val_loss: 0.7367 - val_auc_7: 0.9110\n",
      "Epoch 85/100\n",
      "1252/1253 [============================>.] - ETA: 0s - loss: 1.0230 - auc_7: 0.8736WARNING:tensorflow:Early stopping conditioned on metric `val_auc_6` which is not available. Available metrics are: loss,auc_7,val_loss,val_auc_7\n",
      "1253/1253 [==============================] - 2s 2ms/step - loss: 1.0230 - auc_7: 0.8737 - val_loss: 0.7430 - val_auc_7: 0.9117\n",
      "Epoch 86/100\n",
      "1240/1253 [============================>.] - ETA: 0s - loss: 1.0217 - auc_7: 0.8739WARNING:tensorflow:Early stopping conditioned on metric `val_auc_6` which is not available. Available metrics are: loss,auc_7,val_loss,val_auc_7\n",
      "1253/1253 [==============================] - 2s 2ms/step - loss: 1.0228 - auc_7: 0.8731 - val_loss: 0.7346 - val_auc_7: 0.8863\n",
      "Epoch 87/100\n",
      "1251/1253 [============================>.] - ETA: 0s - loss: 1.0219 - auc_7: 0.8734WARNING:tensorflow:Early stopping conditioned on metric `val_auc_6` which is not available. Available metrics are: loss,auc_7,val_loss,val_auc_7\n",
      "1253/1253 [==============================] - 2s 2ms/step - loss: 1.0217 - auc_7: 0.8735 - val_loss: 0.7376 - val_auc_7: 0.9127\n",
      "Epoch 88/100\n",
      "1225/1253 [============================>.] - ETA: 0s - loss: 1.0216 - auc_7: 0.8728WARNING:tensorflow:Early stopping conditioned on metric `val_auc_6` which is not available. Available metrics are: loss,auc_7,val_loss,val_auc_7\n",
      "1253/1253 [==============================] - 2s 2ms/step - loss: 1.0217 - auc_7: 0.8736 - val_loss: 0.7364 - val_auc_7: 0.9115\n",
      "Epoch 89/100\n",
      "1231/1253 [============================>.] - ETA: 0s - loss: 1.0219 - auc_7: 0.8724WARNING:tensorflow:Early stopping conditioned on metric `val_auc_6` which is not available. Available metrics are: loss,auc_7,val_loss,val_auc_7\n",
      "1253/1253 [==============================] - 2s 2ms/step - loss: 1.0217 - auc_7: 0.8729 - val_loss: 0.7382 - val_auc_7: 0.9116\n",
      "Epoch 90/100\n",
      "1227/1253 [============================>.] - ETA: 0s - loss: 1.0221 - auc_7: 0.8744WARNING:tensorflow:Early stopping conditioned on metric `val_auc_6` which is not available. Available metrics are: loss,auc_7,val_loss,val_auc_7\n",
      "1253/1253 [==============================] - 2s 2ms/step - loss: 1.0226 - auc_7: 0.8740 - val_loss: 0.7383 - val_auc_7: 0.8841\n"
     ]
    },
    {
     "name": "stdout",
     "output_type": "stream",
     "text": [
      "Epoch 91/100\n",
      "1230/1253 [============================>.] - ETA: 0s - loss: 1.0213 - auc_7: 0.8740WARNING:tensorflow:Early stopping conditioned on metric `val_auc_6` which is not available. Available metrics are: loss,auc_7,val_loss,val_auc_7\n",
      "1253/1253 [==============================] - 2s 2ms/step - loss: 1.0214 - auc_7: 0.8736 - val_loss: 0.7307 - val_auc_7: 0.8889\n",
      "Epoch 92/100\n",
      "1225/1253 [============================>.] - ETA: 0s - loss: 1.0216 - auc_7: 0.8735WARNING:tensorflow:Early stopping conditioned on metric `val_auc_6` which is not available. Available metrics are: loss,auc_7,val_loss,val_auc_7\n",
      "1253/1253 [==============================] - 2s 2ms/step - loss: 1.0209 - auc_7: 0.8742 - val_loss: 0.7341 - val_auc_7: 0.9116\n",
      "Epoch 93/100\n",
      "1228/1253 [============================>.] - ETA: 0s - loss: 1.0191 - auc_7: 0.8738WARNING:tensorflow:Early stopping conditioned on metric `val_auc_6` which is not available. Available metrics are: loss,auc_7,val_loss,val_auc_7\n",
      "1253/1253 [==============================] - 2s 2ms/step - loss: 1.0214 - auc_7: 0.8738 - val_loss: 0.7393 - val_auc_7: 0.9113\n",
      "Epoch 94/100\n",
      "1252/1253 [============================>.] - ETA: 0s - loss: 1.0224 - auc_7: 0.8732WARNING:tensorflow:Early stopping conditioned on metric `val_auc_6` which is not available. Available metrics are: loss,auc_7,val_loss,val_auc_7\n",
      "1253/1253 [==============================] - 2s 2ms/step - loss: 1.0222 - auc_7: 0.8732 - val_loss: 0.7291 - val_auc_7: 0.8891\n",
      "Epoch 95/100\n",
      "1250/1253 [============================>.] - ETA: 0s - loss: 1.0203 - auc_7: 0.8742WARNING:tensorflow:Early stopping conditioned on metric `val_auc_6` which is not available. Available metrics are: loss,auc_7,val_loss,val_auc_7\n",
      "1253/1253 [==============================] - 2s 2ms/step - loss: 1.0203 - auc_7: 0.8746 - val_loss: 0.7367 - val_auc_7: 0.8974\n",
      "Epoch 96/100\n",
      "1250/1253 [============================>.] - ETA: 0s - loss: 1.0204 - auc_7: 0.8752WARNING:tensorflow:Early stopping conditioned on metric `val_auc_6` which is not available. Available metrics are: loss,auc_7,val_loss,val_auc_7\n",
      "1253/1253 [==============================] - 2s 2ms/step - loss: 1.0203 - auc_7: 0.8751 - val_loss: 0.7402 - val_auc_7: 0.8955\n",
      "Epoch 97/100\n",
      "1252/1253 [============================>.] - ETA: 0s - loss: 1.0206 - auc_7: 0.8743WARNING:tensorflow:Early stopping conditioned on metric `val_auc_6` which is not available. Available metrics are: loss,auc_7,val_loss,val_auc_7\n",
      "1253/1253 [==============================] - 2s 2ms/step - loss: 1.0209 - auc_7: 0.8742 - val_loss: 0.7388 - val_auc_7: 0.9087\n",
      "Epoch 98/100\n",
      "1249/1253 [============================>.] - ETA: 0s - loss: 1.0201 - auc_7: 0.8745WARNING:tensorflow:Early stopping conditioned on metric `val_auc_6` which is not available. Available metrics are: loss,auc_7,val_loss,val_auc_7\n",
      "1253/1253 [==============================] - 2s 2ms/step - loss: 1.0198 - auc_7: 0.8747 - val_loss: 0.7307 - val_auc_7: 0.8870\n",
      "Epoch 99/100\n",
      "1223/1253 [============================>.] - ETA: 0s - loss: 1.0201 - auc_7: 0.8762WARNING:tensorflow:Early stopping conditioned on metric `val_auc_6` which is not available. Available metrics are: loss,auc_7,val_loss,val_auc_7\n",
      "1253/1253 [==============================] - 2s 2ms/step - loss: 1.0201 - auc_7: 0.8760 - val_loss: 0.7404 - val_auc_7: 0.9102\n",
      "Epoch 100/100\n",
      "1252/1253 [============================>.] - ETA: 0s - loss: 1.0198 - auc_7: 0.8754WARNING:tensorflow:Early stopping conditioned on metric `val_auc_6` which is not available. Available metrics are: loss,auc_7,val_loss,val_auc_7\n",
      "1253/1253 [==============================] - 2s 2ms/step - loss: 1.0198 - auc_7: 0.8755 - val_loss: 0.7375 - val_auc_7: 0.9126\n"
     ]
    }
   ],
   "source": [
    "history = model.fit(XX,YY, class_weight=weights, epochs=100,validation_data=(X_test,Y_test),callbacks=es_callback)"
   ]
  },
  {
   "cell_type": "code",
   "execution_count": 193,
   "metadata": {},
   "outputs": [],
   "source": [
    "predict_nn = model.predict(X_test)"
   ]
  },
  {
   "cell_type": "code",
   "execution_count": 194,
   "metadata": {},
   "outputs": [
    {
     "data": {
      "text/plain": [
       "0.9424252199157824"
      ]
     },
     "execution_count": 194,
     "metadata": {},
     "output_type": "execute_result"
    }
   ],
   "source": [
    "roc_auc_score(Y_test,predict_nn)"
   ]
  },
  {
   "cell_type": "code",
   "execution_count": 38,
   "metadata": {},
   "outputs": [],
   "source": [
    "from imblearn.ensemble import BalancedBaggingClassifier\n",
    "bag_model = BalancedBaggingClassifier()\n"
   ]
  },
  {
   "cell_type": "code",
   "execution_count": 39,
   "metadata": {},
   "outputs": [
    {
     "name": "stderr",
     "output_type": "stream",
     "text": [
      "C:\\Users\\ENES\\anaconda3\\lib\\site-packages\\sklearn\\utils\\validation.py:63: DataConversionWarning: A column-vector y was passed when a 1d array was expected. Please change the shape of y to (n_samples, ), for example using ravel().\n",
      "  return f(*args, **kwargs)\n"
     ]
    },
    {
     "data": {
      "text/plain": [
       "BalancedBaggingClassifier()"
      ]
     },
     "execution_count": 39,
     "metadata": {},
     "output_type": "execute_result"
    }
   ],
   "source": [
    "bag_model.fit(XX,YY)"
   ]
  },
  {
   "cell_type": "code",
   "execution_count": 40,
   "metadata": {},
   "outputs": [],
   "source": [
    "predict_bag = bag_model.predict_proba(X_test)"
   ]
  },
  {
   "cell_type": "code",
   "execution_count": 41,
   "metadata": {},
   "outputs": [
    {
     "data": {
      "text/plain": [
       "0.9040746872700515"
      ]
     },
     "execution_count": 41,
     "metadata": {},
     "output_type": "execute_result"
    }
   ],
   "source": [
    "from sklearn.metrics import roc_auc_score\n",
    "roc_auc_score(Y_test,predict_bag[:,1])"
   ]
  },
  {
   "cell_type": "code",
   "execution_count": 42,
   "metadata": {},
   "outputs": [],
   "source": [
    "predict_test_bag = bag_model.predict_proba(TEST_X)"
   ]
  },
  {
   "cell_type": "code",
   "execution_count": 43,
   "metadata": {},
   "outputs": [],
   "source": [
    "TEST_PREDICT_DF = pd.DataFrame(predict_test_bag[:,1],columns=[\"PREDICTED\"])"
   ]
  },
  {
   "cell_type": "code",
   "execution_count": 44,
   "metadata": {},
   "outputs": [
    {
     "data": {
      "text/plain": [
       "array([0.9, 0.1, 0.8, ..., 0. , 0. , 0.2])"
      ]
     },
     "execution_count": 44,
     "metadata": {},
     "output_type": "execute_result"
    }
   ],
   "source": [
    "predict_test_bag[:,1]"
   ]
  },
  {
   "cell_type": "code",
   "execution_count": 45,
   "metadata": {},
   "outputs": [
    {
     "data": {
      "text/html": [
       "<div>\n",
       "<style scoped>\n",
       "    .dataframe tbody tr th:only-of-type {\n",
       "        vertical-align: middle;\n",
       "    }\n",
       "\n",
       "    .dataframe tbody tr th {\n",
       "        vertical-align: top;\n",
       "    }\n",
       "\n",
       "    .dataframe thead th {\n",
       "        text-align: right;\n",
       "    }\n",
       "</style>\n",
       "<table border=\"1\" class=\"dataframe\">\n",
       "  <thead>\n",
       "    <tr style=\"text-align: right;\">\n",
       "      <th></th>\n",
       "      <th>PREDICTED</th>\n",
       "    </tr>\n",
       "  </thead>\n",
       "  <tbody>\n",
       "    <tr>\n",
       "      <th>0</th>\n",
       "      <td>0.9</td>\n",
       "    </tr>\n",
       "    <tr>\n",
       "      <th>1</th>\n",
       "      <td>0.1</td>\n",
       "    </tr>\n",
       "    <tr>\n",
       "      <th>2</th>\n",
       "      <td>0.8</td>\n",
       "    </tr>\n",
       "    <tr>\n",
       "      <th>3</th>\n",
       "      <td>1.0</td>\n",
       "    </tr>\n",
       "    <tr>\n",
       "      <th>4</th>\n",
       "      <td>0.9</td>\n",
       "    </tr>\n",
       "    <tr>\n",
       "      <th>...</th>\n",
       "      <td>...</td>\n",
       "    </tr>\n",
       "    <tr>\n",
       "      <th>326227</th>\n",
       "      <td>0.0</td>\n",
       "    </tr>\n",
       "    <tr>\n",
       "      <th>326228</th>\n",
       "      <td>0.0</td>\n",
       "    </tr>\n",
       "    <tr>\n",
       "      <th>326229</th>\n",
       "      <td>0.0</td>\n",
       "    </tr>\n",
       "    <tr>\n",
       "      <th>326230</th>\n",
       "      <td>0.0</td>\n",
       "    </tr>\n",
       "    <tr>\n",
       "      <th>326231</th>\n",
       "      <td>0.2</td>\n",
       "    </tr>\n",
       "  </tbody>\n",
       "</table>\n",
       "<p>326232 rows × 1 columns</p>\n",
       "</div>"
      ],
      "text/plain": [
       "        PREDICTED\n",
       "0             0.9\n",
       "1             0.1\n",
       "2             0.8\n",
       "3             1.0\n",
       "4             0.9\n",
       "...           ...\n",
       "326227        0.0\n",
       "326228        0.0\n",
       "326229        0.0\n",
       "326230        0.0\n",
       "326231        0.2\n",
       "\n",
       "[326232 rows x 1 columns]"
      ]
     },
     "execution_count": 45,
     "metadata": {},
     "output_type": "execute_result"
    }
   ],
   "source": [
    "TEST_PREDICT_DF"
   ]
  },
  {
   "cell_type": "code",
   "execution_count": 46,
   "metadata": {},
   "outputs": [],
   "source": [
    "TEST_PREDICT_DF.to_csv(\"predictions_12.csv\")"
   ]
  },
  {
   "cell_type": "code",
   "execution_count": 23,
   "metadata": {},
   "outputs": [],
   "source": [
    "from sklearn.ensemble import RandomForestClassifier"
   ]
  },
  {
   "cell_type": "code",
   "execution_count": 24,
   "metadata": {},
   "outputs": [],
   "source": [
    "rf_clf = RandomForestClassifier(n_estimators=15, class_weight=\"balanced\")"
   ]
  },
  {
   "cell_type": "code",
   "execution_count": 25,
   "metadata": {},
   "outputs": [
    {
     "name": "stderr",
     "output_type": "stream",
     "text": [
      "<ipython-input-25-2d13dfa35135>:1: DataConversionWarning: A column-vector y was passed when a 1d array was expected. Please change the shape of y to (n_samples,), for example using ravel().\n",
      "  rf_clf.fit(XX,YY)\n"
     ]
    },
    {
     "data": {
      "text/plain": [
       "RandomForestClassifier(class_weight='balanced', n_estimators=15)"
      ]
     },
     "execution_count": 25,
     "metadata": {},
     "output_type": "execute_result"
    }
   ],
   "source": [
    "rf_clf.fit(XX,YY)"
   ]
  },
  {
   "cell_type": "code",
   "execution_count": 26,
   "metadata": {},
   "outputs": [],
   "source": [
    "predict_rf = rf_clf.predict_proba(X_test)"
   ]
  },
  {
   "cell_type": "code",
   "execution_count": 27,
   "metadata": {},
   "outputs": [
    {
     "data": {
      "text/plain": [
       "0.8861662987490803"
      ]
     },
     "execution_count": 27,
     "metadata": {},
     "output_type": "execute_result"
    }
   ],
   "source": [
    "roc_auc_score(Y_test,predict_rf[:,1])"
   ]
  },
  {
   "cell_type": "code",
   "execution_count": 28,
   "metadata": {},
   "outputs": [],
   "source": [
    "predict_test_rf = rf_clf.predict_proba(TEST_X)"
   ]
  },
  {
   "cell_type": "code",
   "execution_count": 29,
   "metadata": {},
   "outputs": [],
   "source": [
    "TEST_PREDICT_DF = pd.DataFrame(predict_test_rf[:,1],columns=[\"PREDICTED\"])\n",
    "TEST_PREDICT_DF.to_csv(\"predictions_11.csv\")"
   ]
  },
  {
   "cell_type": "code",
   "execution_count": 30,
   "metadata": {},
   "outputs": [],
   "source": [
    "from imblearn.ensemble import EasyEnsembleClassifier\n",
    "easy_clf = EasyEnsembleClassifier(n_estimators=10)"
   ]
  },
  {
   "cell_type": "code",
   "execution_count": 31,
   "metadata": {},
   "outputs": [
    {
     "name": "stderr",
     "output_type": "stream",
     "text": [
      "C:\\Users\\ENES\\anaconda3\\lib\\site-packages\\sklearn\\utils\\validation.py:63: DataConversionWarning: A column-vector y was passed when a 1d array was expected. Please change the shape of y to (n_samples, ), for example using ravel().\n",
      "  return f(*args, **kwargs)\n"
     ]
    },
    {
     "data": {
      "text/plain": [
       "EasyEnsembleClassifier()"
      ]
     },
     "execution_count": 31,
     "metadata": {},
     "output_type": "execute_result"
    }
   ],
   "source": [
    "easy_clf.fit(XX,YY)"
   ]
  },
  {
   "cell_type": "code",
   "execution_count": 32,
   "metadata": {},
   "outputs": [
    {
     "data": {
      "text/plain": [
       "0.8797139440765269"
      ]
     },
     "execution_count": 32,
     "metadata": {},
     "output_type": "execute_result"
    }
   ],
   "source": [
    "predict_easy = easy_clf.predict_proba(X_test)\n",
    "roc_auc_score(Y_test,predict_easy[:,1])"
   ]
  },
  {
   "cell_type": "code",
   "execution_count": 100,
   "metadata": {},
   "outputs": [],
   "source": [
    "predict_test_easy = easy_clf.predict_proba(TEST_X)"
   ]
  },
  {
   "cell_type": "code",
   "execution_count": 101,
   "metadata": {},
   "outputs": [],
   "source": [
    "TEST_PREDICT_DF = pd.DataFrame(predict_test_easy[:,1],columns=[\"PREDICTED\"])\n",
    "TEST_PREDICT_DF.to_csv(\"predictions9.csv\")"
   ]
  },
  {
   "cell_type": "code",
   "execution_count": null,
   "metadata": {},
   "outputs": [],
   "source": []
  }
 ],
 "metadata": {
  "accelerator": "GPU",
  "colab": {
   "collapsed_sections": [
    "tYD8Ng4qB2xr"
   ],
   "name": "Untitled0.ipynb",
   "provenance": []
  },
  "kernelspec": {
   "display_name": "Python 3",
   "language": "python",
   "name": "python3"
  },
  "language_info": {
   "codemirror_mode": {
    "name": "ipython",
    "version": 3
   },
   "file_extension": ".py",
   "mimetype": "text/x-python",
   "name": "python",
   "nbconvert_exporter": "python",
   "pygments_lexer": "ipython3",
   "version": "3.8.8"
  }
 },
 "nbformat": 4,
 "nbformat_minor": 1
}
